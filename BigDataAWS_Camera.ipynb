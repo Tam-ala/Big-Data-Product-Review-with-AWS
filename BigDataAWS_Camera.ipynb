{
 "cells": [
  {
   "cell_type": "markdown",
   "metadata": {
    "colab_type": "text",
    "id": "rEOaQoMpbZtJ"
   },
   "source": [
    "# ETL the data in the camera reviews dataset from AWS S3 datasets in order to match the schema."
   ]
  },
  {
   "cell_type": "code",
   "execution_count": null,
   "metadata": {
    "colab": {},
    "colab_type": "code",
    "id": "Gc0w8jw_7qsk"
   },
   "outputs": [],
   "source": [
    "# Install Java, Spark, and Findspark\n",
    "!apt-get install openjdk-8-jdk-headless -qq > /dev/null\n",
    "!wget -q http://www-us.apache.org/dist/spark/spark-2.4.7/spark-2.4.7-bin-hadoop2.7.tgz\n",
    "!tar xf spark-2.4.7-bin-hadoop2.7.tgz\n",
    "!pip install -q findspark\n",
    " \n",
    "# Set Environment Variables\n",
    "import os\n",
    "os.environ[\"JAVA_HOME\"] = \"/usr/lib/jvm/java-8-openjdk-amd64\"\n",
    "os.environ[\"SPARK_HOME\"] = \"/content/spark-2.4.7-bin-hadoop2.7\"\n",
    " \n",
    "# Start a SparkSession\n",
    "import findspark\n",
    "findspark.init()"
   ]
  },
  {
   "cell_type": "code",
   "execution_count": null,
   "metadata": {
    "colab": {
     "base_uri": "https://localhost:8080/",
     "height": 219
    },
    "colab_type": "code",
    "id": "Y6gb1XVZZDKN",
    "outputId": "8633d6e4-c7ef-4978-e21d-773c88e187c6"
   },
   "outputs": [
    {
     "name": "stdout",
     "output_type": "stream",
     "text": [
      "--2020-09-22 01:21:08--  https://jdbc.postgresql.org/download/postgresql-42.2.9.jar\n",
      "Resolving jdbc.postgresql.org (jdbc.postgresql.org)... 72.32.157.228, 2001:4800:3e1:1::228\n",
      "Connecting to jdbc.postgresql.org (jdbc.postgresql.org)|72.32.157.228|:443... connected.\n",
      "HTTP request sent, awaiting response... 200 OK\n",
      "Length: 914037 (893K) [application/java-archive]\n",
      "Saving to: ‘postgresql-42.2.9.jar’\n",
      "\n",
      "postgresql-42.2.9.j 100%[===================>] 892.61K  --.-KB/s    in 0.1s    \n",
      "\n",
      "2020-09-22 01:21:08 (8.88 MB/s) - ‘postgresql-42.2.9.jar’ saved [914037/914037]\n",
      "\n"
     ]
    }
   ],
   "source": [
    "!wget https://jdbc.postgresql.org/download/postgresql-42.2.9.jar"
   ]
  },
  {
   "cell_type": "code",
   "execution_count": null,
   "metadata": {
    "colab": {},
    "colab_type": "code",
    "id": "0nVDFEnB73Ij"
   },
   "outputs": [],
   "source": [
    "from pyspark.sql import SparkSession\n",
    "spark = SparkSession.builder.appName(\"AmazonHWCamera\").config(\"spark.driver.extraClassPath2\",\"/content/postgresql-42.2.9.jar\").getOrCreate()"
   ]
  },
  {
   "cell_type": "code",
   "execution_count": null,
   "metadata": {
    "colab": {},
    "colab_type": "code",
    "id": "xE4X0fnc7gKl"
   },
   "outputs": [],
   "source": [
    "# load csv from AWS S3\n",
    "from pyspark import SparkFiles\n",
    "# Load in user_data.csv from S3 into a DataFrame\n",
    "url = \"https://s3.amazonaws.com/amazon-reviews-pds/tsv/amazon_reviews_us_Camera_v1_00.tsv.gz\"\n",
    "spark.sparkContext.addFile(url)"
   ]
  },
  {
   "cell_type": "code",
   "execution_count": null,
   "metadata": {
    "colab": {
     "base_uri": "https://localhost:8080/",
     "height": 331
    },
    "colab_type": "code",
    "id": "E6NVC4ugEDv8",
    "outputId": "0d459457-9ffc-47c3-d5b0-cb3279a3917a"
   },
   "outputs": [
    {
     "name": "stdout",
     "output_type": "stream",
     "text": [
      "+-----------+-----------+--------------+----------+--------------+--------------------+----------------+-----------+-------------+-----------+----+-----------------+--------------------+--------------------+-------------------+\n",
      "|marketplace|customer_id|     review_id|product_id|product_parent|       product_title|product_category|star_rating|helpful_votes|total_votes|vine|verified_purchase|     review_headline|         review_body|        review_date|\n",
      "+-----------+-----------+--------------+----------+--------------+--------------------+----------------+-----------+-------------+-----------+----+-----------------+--------------------+--------------------+-------------------+\n",
      "|         US|    2975964|R1NBG94582SJE2|B00I01JQJM|     860486164|GoPro Rechargeabl...|          Camera|          5|            0|          0|   N|                Y|          Five Stars|                  ok|2015-08-31 00:00:00|\n",
      "|         US|   23526356|R273DCA6Y0H9V7|B00TCO0ZAA|     292641483|Professional 58mm...|          Camera|          5|            0|          0|   N|                Y|          Love it!!!|Perfect, even stu...|2015-08-31 00:00:00|\n",
      "|         US|   52764145| RQVOXO7WUOFK6|B00B7733E0|      75825744|Spy Tec Z12 Motio...|          Camera|          2|            1|          1|   N|                Y|Another Motion De...|If the words, &#3...|2015-08-31 00:00:00|\n",
      "|         US|   47348933|R1KWKSF21PO6HO|B006ZN4U34|     789352955|Celestron UpClose...|          Camera|          5|            0|          0|   N|                Y|Exactly what I wa...|Exactly what I wa...|2015-08-31 00:00:00|\n",
      "|         US|   33680700|R38H3UO1J190GI|B00HUEBGMU|      19067902|Vidpro XM-L Wired...|          Camera|          5|            1|          1|   N|                Y|Good mic at a Goo...|I will look past ...|2015-08-31 00:00:00|\n",
      "|         US|   30301059|R3NPIFKLR19NQA|B008MW6Y12|     597683407|NIX 8 inch Hi-Res...|          Camera|          3|            0|          0|   N|                Y|The controls are ...|The controls are ...|2015-08-31 00:00:00|\n",
      "|         US|   28282645|R3MBE6UCH3435E|B00TE8XKIS|      35563334|Polaroid ZIP Mobi...|          Camera|          3|            8|          8|   N|                N|Fun toy for makin...|The printer came ...|2015-08-31 00:00:00|\n",
      "|         US|     502818|R2E7A4FF0PVY5Q|B00ZKDUFBQ|     555190742|GeekPro 2.0-Inch ...|          Camera|          5|            0|          1|   N|                Y|          Five Stars|Great camera for ...|2015-08-31 00:00:00|\n",
      "|         US|    1481233| R3R8JDQ2BF4NM|B010BZ7S2Q|     129544315|Sony HDR-AZ1VR Ac...|          Camera|          5|            0|          2|   N|                Y|          Five Stars|Product is very g...|2015-08-31 00:00:00|\n",
      "|         US|   27885926|R1YND4BS823GN5|B00HRXSSRA|     708418657|ChiliPower DMW-BL...|          Camera|          1|            0|          0|   N|                Y|              Sucky.|Lasted a few hour...|2015-08-31 00:00:00|\n",
      "+-----------+-----------+--------------+----------+--------------+--------------------+----------------+-----------+-------------+-----------+----+-----------------+--------------------+--------------------+-------------------+\n",
      "only showing top 10 rows\n",
      "\n"
     ]
    }
   ],
   "source": [
    "# make header 'true' and sep '\\t' and verify data is connected\n",
    "df = spark.read.option('header', 'true').csv(SparkFiles.get(\"amazon_reviews_us_Camera_v1_00.tsv.gz\"), inferSchema=True, sep='\\t', timestampFormat=\"mm/dd/yy\")\n",
    "df.show(10)"
   ]
  },
  {
   "cell_type": "code",
   "execution_count": null,
   "metadata": {
    "colab": {
     "base_uri": "https://localhost:8080/",
     "height": 329
    },
    "colab_type": "code",
    "id": "67M3P0-dV6AV",
    "outputId": "55721d02-7cf9-4963-d5f7-da68a120ffab"
   },
   "outputs": [
    {
     "name": "stdout",
     "output_type": "stream",
     "text": [
      "root\n",
      " |-- marketplace: string (nullable = true)\n",
      " |-- customer_id: integer (nullable = true)\n",
      " |-- review_id: string (nullable = true)\n",
      " |-- product_id: string (nullable = true)\n",
      " |-- product_parent: integer (nullable = true)\n",
      " |-- product_title: string (nullable = true)\n",
      " |-- product_category: string (nullable = true)\n",
      " |-- star_rating: integer (nullable = true)\n",
      " |-- helpful_votes: integer (nullable = true)\n",
      " |-- total_votes: integer (nullable = true)\n",
      " |-- vine: string (nullable = true)\n",
      " |-- verified_purchase: string (nullable = true)\n",
      " |-- review_headline: string (nullable = true)\n",
      " |-- review_body: string (nullable = true)\n",
      " |-- review_date: timestamp (nullable = true)\n",
      "\n"
     ]
    }
   ],
   "source": [
    "# print df schema\n",
    "df.printSchema()"
   ]
  },
  {
   "cell_type": "markdown",
   "metadata": {
    "colab_type": "text",
    "id": "s4cSt5EBTQWw"
   },
   "source": [
    "# Count number of records(rows) in this dataset"
   ]
  },
  {
   "cell_type": "code",
   "execution_count": null,
   "metadata": {
    "colab": {
     "base_uri": "https://localhost:8080/",
     "height": 35
    },
    "colab_type": "code",
    "id": "XFIDacwkRFyj",
    "outputId": "b6426db6-1c50-45b8-f405-5d771a1680cd"
   },
   "outputs": [
    {
     "name": "stdout",
     "output_type": "stream",
     "text": [
      "Number of records in this dataset: 1801974\n"
     ]
    }
   ],
   "source": [
    "# count number of records(rows) in this dataset\n",
    "row_number = df.count()\n",
    "print(f\"Number of records in this dataset: {row_number}\")"
   ]
  },
  {
   "cell_type": "markdown",
   "metadata": {
    "colab_type": "text",
    "id": "e_5dSiAfTUNS"
   },
   "source": [
    "# Create user dataframe to match **review_id_table** table in the schema"
   ]
  },
  {
   "cell_type": "code",
   "execution_count": null,
   "metadata": {
    "colab": {
     "base_uri": "https://localhost:8080/",
     "height": 311
    },
    "colab_type": "code",
    "id": "R2wubJbATj0N",
    "outputId": "fe3bae0d-fed1-4f17-926d-99da1f59aee4"
   },
   "outputs": [
    {
     "name": "stdout",
     "output_type": "stream",
     "text": [
      "+--------------+-----------+----------+--------------+-------------------+\n",
      "|     review_id|customer_id|product_id|product_parent|        review_date|\n",
      "+--------------+-----------+----------+--------------+-------------------+\n",
      "|R1NBG94582SJE2|    2975964|B00I01JQJM|     860486164|2015-08-31 00:00:00|\n",
      "|R273DCA6Y0H9V7|   23526356|B00TCO0ZAA|     292641483|2015-08-31 00:00:00|\n",
      "| RQVOXO7WUOFK6|   52764145|B00B7733E0|      75825744|2015-08-31 00:00:00|\n",
      "|R1KWKSF21PO6HO|   47348933|B006ZN4U34|     789352955|2015-08-31 00:00:00|\n",
      "|R38H3UO1J190GI|   33680700|B00HUEBGMU|      19067902|2015-08-31 00:00:00|\n",
      "|R3NPIFKLR19NQA|   30301059|B008MW6Y12|     597683407|2015-08-31 00:00:00|\n",
      "|R3MBE6UCH3435E|   28282645|B00TE8XKIS|      35563334|2015-08-31 00:00:00|\n",
      "|R2E7A4FF0PVY5Q|     502818|B00ZKDUFBQ|     555190742|2015-08-31 00:00:00|\n",
      "| R3R8JDQ2BF4NM|    1481233|B010BZ7S2Q|     129544315|2015-08-31 00:00:00|\n",
      "|R1YND4BS823GN5|   27885926|B00HRXSSRA|     708418657|2015-08-31 00:00:00|\n",
      "+--------------+-----------+----------+--------------+-------------------+\n",
      "only showing top 10 rows\n",
      "\n"
     ]
    }
   ],
   "source": [
    "# make df for review\n",
    "review_df = df.select([\"review_id\", \"customer_id\", \"product_id\", \"product_parent\",\"review_date\"])\n",
    "review_df.show(10)"
   ]
  },
  {
   "cell_type": "code",
   "execution_count": null,
   "metadata": {
    "colab": {
     "base_uri": "https://localhost:8080/",
     "height": 109
    },
    "colab_type": "code",
    "id": "PEYlzVXLATu5",
    "outputId": "8f6e433a-8fd7-4cb1-f92e-48a0b7ad850b"
   },
   "outputs": [
    {
     "data": {
      "text/plain": [
       "[('review_id', 'string'),\n",
       " ('customer_id', 'int'),\n",
       " ('product_id', 'string'),\n",
       " ('product_parent', 'int'),\n",
       " ('review_date', 'timestamp')]"
      ]
     },
     "execution_count": 9,
     "metadata": {
      "tags": []
     },
     "output_type": "execute_result"
    }
   ],
   "source": [
    "# double checking that datatype matches schema\n",
    "review_df.dtypes"
   ]
  },
  {
   "cell_type": "code",
   "execution_count": null,
   "metadata": {
    "colab": {
     "base_uri": "https://localhost:8080/",
     "height": 109
    },
    "colab_type": "code",
    "id": "0zks65I_Afm4",
    "outputId": "dfc02818-9660-424b-af50-a20684d25935"
   },
   "outputs": [
    {
     "data": {
      "text/plain": [
       "[('review_id', 'string'),\n",
       " ('customer_id', 'int'),\n",
       " ('product_id', 'string'),\n",
       " ('product_parent', 'int'),\n",
       " ('review_date', 'date')]"
      ]
     },
     "execution_count": 10,
     "metadata": {
      "tags": []
     },
     "output_type": "execute_result"
    }
   ],
   "source": [
    "# change review_date from timestamp to yyyy-mm-dd format and verify change\n",
    "from pyspark.sql.types import DateType\n",
    "review_df = review_df.withColumn(\"review_date\", review_df['review_date'].cast(DateType()))\n",
    "review_df.dtypes"
   ]
  },
  {
   "cell_type": "markdown",
   "metadata": {
    "colab_type": "text",
    "id": "NePg0aZpTf6K"
   },
   "source": [
    "# Create user dataframe to match **products** table in the schema"
   ]
  },
  {
   "cell_type": "code",
   "execution_count": null,
   "metadata": {
    "colab": {
     "base_uri": "https://localhost:8080/",
     "height": 311
    },
    "colab_type": "code",
    "id": "Yyi9BMVyUpT3",
    "outputId": "0cffcd4c-8bec-4ba7-feda-1daae4400882"
   },
   "outputs": [
    {
     "name": "stdout",
     "output_type": "stream",
     "text": [
      "+----------+--------------------+\n",
      "|product_id|       product_title|\n",
      "+----------+--------------------+\n",
      "|B00L9ZF5BY|Flylinktech Actio...|\n",
      "|B00017LSF8|B+W Clear UV Haze...|\n",
      "|B00CGTN2N0|Queen Spy Mini U8...|\n",
      "|B002POMZWU|Usb cable for kod...|\n",
      "|B00FEY2BCW|Camera Case Eveca...|\n",
      "|B0131XNIDS|*5-pack* microSue...|\n",
      "|B004OUMTT2|Celestron PowerSe...|\n",
      "|B004HY3XOA|58MM UV Lens Filt...|\n",
      "|B00LBFKLRU|(Create a generic...|\n",
      "|B007QXZ6D0|Vello Cinch Strap...|\n",
      "+----------+--------------------+\n",
      "only showing top 10 rows\n",
      "\n"
     ]
    }
   ],
   "source": [
    "# make df for products and drop duplicates\n",
    "product_df = df.select([\"product_id\", \"product_title\"]).drop_duplicates()\n",
    "product_df.show(10)"
   ]
  },
  {
   "cell_type": "code",
   "execution_count": null,
   "metadata": {
    "colab": {
     "base_uri": "https://localhost:8080/",
     "height": 35
    },
    "colab_type": "code",
    "id": "faPrJ-E4ArF7",
    "outputId": "3d070954-cf12-4075-fabc-2d48235e6345"
   },
   "outputs": [
    {
     "data": {
      "text/plain": [
       "[('product_id', 'string'), ('product_title', 'string')]"
      ]
     },
     "execution_count": 12,
     "metadata": {
      "tags": []
     },
     "output_type": "execute_result"
    }
   ],
   "source": [
    "# double checking that datatype matches schema\n",
    "product_df.dtypes"
   ]
  },
  {
   "cell_type": "markdown",
   "metadata": {
    "colab_type": "text",
    "id": "S1pf6JBMT5zC"
   },
   "source": [
    "**bold text**# Create user dataframe to match **customers** table in the schema"
   ]
  },
  {
   "cell_type": "code",
   "execution_count": null,
   "metadata": {
    "colab": {
     "base_uri": "https://localhost:8080/",
     "height": 311
    },
    "colab_type": "code",
    "id": "48_zoHQGUpJc",
    "outputId": "2b0b7e9f-634e-4c2b-abb4-266e4cd2c197"
   },
   "outputs": [
    {
     "name": "stdout",
     "output_type": "stream",
     "text": [
      "+-----------+--------------+\n",
      "|customer_id|customer_count|\n",
      "+-----------+--------------+\n",
      "|   52695798|             1|\n",
      "|   48363612|             5|\n",
      "|   46909180|             1|\n",
      "|   45595220|             1|\n",
      "|   50372387|             2|\n",
      "|    9731896|             1|\n",
      "|   24540309|             1|\n",
      "|    2019000|             1|\n",
      "|   50798385|             5|\n",
      "|   37669883|             1|\n",
      "+-----------+--------------+\n",
      "only showing top 10 rows\n",
      "\n"
     ]
    }
   ],
   "source": [
    "# count the number of customers\n",
    "customer = df.groupby('customer_id').agg({\"customer_id\": \"count\"})\n",
    "#rename count(customer_id) column to match schema\n",
    "customer_df = customer.withColumnRenamed('count(customer_id)', 'customer_count')\n",
    "customer_df.show(10)"
   ]
  },
  {
   "cell_type": "code",
   "execution_count": null,
   "metadata": {
    "colab": {
     "base_uri": "https://localhost:8080/",
     "height": 35
    },
    "colab_type": "code",
    "id": "eiUU3HK4A1yL",
    "outputId": "f610734a-ca76-49f9-f075-17ff568a5970"
   },
   "outputs": [
    {
     "data": {
      "text/plain": [
       "[('customer_id', 'int'), ('customer_count', 'bigint')]"
      ]
     },
     "execution_count": 14,
     "metadata": {
      "tags": []
     },
     "output_type": "execute_result"
    }
   ],
   "source": [
    "# double checking that datatype matches schema\n",
    "customer_df.dtypes"
   ]
  },
  {
   "cell_type": "code",
   "execution_count": null,
   "metadata": {
    "colab": {
     "base_uri": "https://localhost:8080/",
     "height": 35
    },
    "colab_type": "code",
    "id": "_6C-LT8_A2eT",
    "outputId": "ab1fbf19-ad26-4f0c-e08e-1b43d73ffe8a"
   },
   "outputs": [
    {
     "data": {
      "text/plain": [
       "[('customer_id', 'int'), ('customer_count', 'int')]"
      ]
     },
     "execution_count": 15,
     "metadata": {
      "tags": []
     },
     "output_type": "execute_result"
    }
   ],
   "source": [
    "# change customer_count from bigint to int & verify change\n",
    "from pyspark.sql.types import IntegerType\n",
    "customer_df = customer_df.withColumn(\"customer_count\",customer_df[\"customer_count\"].cast(IntegerType()))\n",
    "customer_df.dtypes"
   ]
  },
  {
   "cell_type": "markdown",
   "metadata": {
    "colab_type": "text",
    "id": "YkKtbyg-Tpvj"
   },
   "source": [
    "# Create user dataframe to match **vine_table** table in the schema"
   ]
  },
  {
   "cell_type": "code",
   "execution_count": null,
   "metadata": {
    "colab": {
     "base_uri": "https://localhost:8080/",
     "height": 311
    },
    "colab_type": "code",
    "id": "yZ4Qy61QTq-R",
    "outputId": "393ccf48-08ab-44dd-8ec6-8f1ee97a8428"
   },
   "outputs": [
    {
     "name": "stdout",
     "output_type": "stream",
     "text": [
      "+--------------+-----------+-------------+-----------+----+\n",
      "|     review_id|star_rating|helpful_votes|total_votes|vine|\n",
      "+--------------+-----------+-------------+-----------+----+\n",
      "|R1NBG94582SJE2|          5|            0|          0|   N|\n",
      "|R273DCA6Y0H9V7|          5|            0|          0|   N|\n",
      "| RQVOXO7WUOFK6|          2|            1|          1|   N|\n",
      "|R1KWKSF21PO6HO|          5|            0|          0|   N|\n",
      "|R38H3UO1J190GI|          5|            1|          1|   N|\n",
      "|R3NPIFKLR19NQA|          3|            0|          0|   N|\n",
      "|R3MBE6UCH3435E|          3|            8|          8|   N|\n",
      "|R2E7A4FF0PVY5Q|          5|            0|          1|   N|\n",
      "| R3R8JDQ2BF4NM|          5|            0|          2|   N|\n",
      "|R1YND4BS823GN5|          1|            0|          0|   N|\n",
      "+--------------+-----------+-------------+-----------+----+\n",
      "only showing top 10 rows\n",
      "\n"
     ]
    }
   ],
   "source": [
    "# make df to match schema\n",
    "vine_df = df.select([\"review_id\", \"star_rating\",\"helpful_votes\",\"total_votes\",\"vine\"])\n",
    "vine_df.show(10)"
   ]
  },
  {
   "cell_type": "code",
   "execution_count": null,
   "metadata": {
    "colab": {
     "base_uri": "https://localhost:8080/",
     "height": 109
    },
    "colab_type": "code",
    "id": "Ypa2DjWgBiOt",
    "outputId": "5a5eeb7f-337d-4db6-8769-ffe0e3561ceb"
   },
   "outputs": [
    {
     "data": {
      "text/plain": [
       "[('review_id', 'string'),\n",
       " ('star_rating', 'int'),\n",
       " ('helpful_votes', 'int'),\n",
       " ('total_votes', 'int'),\n",
       " ('vine', 'string')]"
      ]
     },
     "execution_count": 17,
     "metadata": {
      "tags": []
     },
     "output_type": "execute_result"
    }
   ],
   "source": [
    "# double checking that datatype matches schema\n",
    "vine_df.dtypes"
   ]
  },
  {
   "cell_type": "markdown",
   "metadata": {
    "colab_type": "text",
    "id": "pFDC-tn9Yqon"
   },
   "source": [
    "# Load the DataFrames that correspond to tables into an RDS instance\n"
   ]
  },
  {
   "cell_type": "code",
   "execution_count": null,
   "metadata": {
    "colab": {},
    "colab_type": "code",
    "id": "Yiv4hk_GUo5Q"
   },
   "outputs": [],
   "source": [
    "# Configure settings for RDS\n",
    "mode = \"append\"\n",
    "jdbc_url=\"jdbc:postgresql://<insert endpoint>:5432/postgres\"\n",
    "config = {\"user\":\"<insert user>\", \n",
    "          \"password\": \"<insert password>\", \n",
    "          \"driver\":\"org.postgresql.Driver\"}"
   ]
  },
  {
   "cell_type": "code",
   "execution_count": null,
   "metadata": {
    "colab": {},
    "colab_type": "code",
    "id": "Ewm3lbt7Yz_y"
   },
   "outputs": [],
   "source": [
    "# Write DataFrame to review_df table in RDS\n",
    "review_df.write.jdbc(url=jdbc_url, table='review_id_table', mode=mode, properties=config)"
   ]
  },
  {
   "cell_type": "code",
   "execution_count": null,
   "metadata": {
    "colab": {},
    "colab_type": "code",
    "id": "C-MTlY3rZiLd"
   },
   "outputs": [],
   "source": [
    "# Write DataFrame to product_df table in RDS\n",
    "product_df.write.jdbc(url=jdbc_url, table='products', mode=mode, properties=config)"
   ]
  },
  {
   "cell_type": "code",
   "execution_count": null,
   "metadata": {
    "colab": {},
    "colab_type": "code",
    "id": "TXwW41MmZimQ"
   },
   "outputs": [],
   "source": [
    "# Write DataFrame to customer_df table in RDS\n",
    "customer_df.write.jdbc(url=jdbc_url, table='customers', mode=mode, properties=config)"
   ]
  },
  {
   "cell_type": "code",
   "execution_count": null,
   "metadata": {
    "colab": {},
    "colab_type": "code",
    "id": "nJlJv6ZqZi7c"
   },
   "outputs": [],
   "source": [
    "# Write DataFrame to vine_df table in RDS\n",
    "vine_df.write.jdbc(url=jdbc_url, table='vine_table', mode=mode, properties=config)"
   ]
  },
  {
   "cell_type": "markdown",
   "metadata": {
    "colab_type": "text",
    "id": "pktZmOS-Qpsl"
   },
   "source": [
    "# Are Vine Reviews Trustworthy?"
   ]
  },
  {
   "cell_type": "markdown",
   "metadata": {
    "colab_type": "text",
    "id": "R5kYVvLE8m8a"
   },
   "source": [
    "## A Comparison between Vine and Non-Vine Reviewers"
   ]
  },
  {
   "cell_type": "markdown",
   "metadata": {
    "colab_type": "text",
    "id": "p25xaCrhMbi9"
   },
   "source": [
    "Count vine members"
   ]
  },
  {
   "cell_type": "code",
   "execution_count": null,
   "metadata": {
    "colab": {
     "base_uri": "https://localhost:8080/",
     "height": 495
    },
    "colab_type": "code",
    "id": "GkXKDnIx8lsq",
    "outputId": "f80fac48-ef05-4d8a-cfa5-0c9fd2605e50"
   },
   "outputs": [
    {
     "name": "stdout",
     "output_type": "stream",
     "text": [
      "+--------------+-----------+-------------+-----------+----+\n",
      "|     review_id|star_rating|helpful_votes|total_votes|vine|\n",
      "+--------------+-----------+-------------+-----------+----+\n",
      "|R2H4QESQ10P8EN|          5|            4|          5|   Y|\n",
      "|  RY5OEUWERD2Z|          4|            5|          5|   Y|\n",
      "|R3GNSMDV7WZGKP|          4|            1|          1|   Y|\n",
      "|R1RI2CNUVSAOU6|          4|            0|          0|   Y|\n",
      "|R3UX0VTCK4SUJX|          4|            0|          0|   Y|\n",
      "|R2XDFESUGNQYDC|          5|            2|          3|   Y|\n",
      "|R1VYRVEFO3I4NX|          4|           11|         12|   Y|\n",
      "| RX7LRJLKAX9SY|          5|            1|          3|   Y|\n",
      "|R2Z3DTPH8Y206X|          5|            0|          0|   Y|\n",
      "|R29DFG91V74EY5|          1|            2|          3|   Y|\n",
      "|R37L6YZDX0P3J9|          1|           28|         35|   Y|\n",
      "|R3TY6J21QQGUUB|          4|            0|          0|   Y|\n",
      "|R2JT4XRQO2KASL|          5|           38|         41|   Y|\n",
      "|R1SCZZ7KYLMTMO|          4|            0|          0|   Y|\n",
      "|R1OTYMHF8SJGWW|          3|            3|          4|   Y|\n",
      "|R39Y49WLU9ZTTG|          2|            1|          3|   Y|\n",
      "|R3VUPI002D2LRR|          4|            0|          1|   Y|\n",
      "|R2UB8UJEZDMFYW|          4|            7|          7|   Y|\n",
      "| RQ4Y93LGS886W|          5|            2|          2|   Y|\n",
      "|R15EDK2H8BNMHI|          4|            4|          6|   Y|\n",
      "+--------------+-----------+-------------+-----------+----+\n",
      "only showing top 20 rows\n",
      "\n"
     ]
    }
   ],
   "source": [
    "# Load in a sql function to use columns\n",
    "from pyspark.sql.functions import col\n",
    "\n",
    "# Find vine users\n",
    "vine_users = vine_df.filter(col(\"vine\")  == \"Y\")\n",
    "vine_users.show()"
   ]
  },
  {
   "cell_type": "code",
   "execution_count": null,
   "metadata": {
    "colab": {
     "base_uri": "https://localhost:8080/",
     "height": 35
    },
    "colab_type": "code",
    "id": "P0PbJCdXMjgt",
    "outputId": "eb5fc234-25ea-40dc-86de-bc03ddf42f22"
   },
   "outputs": [
    {
     "name": "stdout",
     "output_type": "stream",
     "text": [
      "Number of vine users in this dataset: 7883\n"
     ]
    }
   ],
   "source": [
    "# count rows to verify\n",
    "viners = vine_users.count()\n",
    "print(f\"Number of vine users in this dataset: {viners}\")"
   ]
  },
  {
   "cell_type": "markdown",
   "metadata": {
    "colab_type": "text",
    "id": "d7RYgYjENI2w"
   },
   "source": [
    "Total vote count by star rating amongst vine users."
   ]
  },
  {
   "cell_type": "code",
   "execution_count": null,
   "metadata": {
    "colab": {
     "base_uri": "https://localhost:8080/",
     "height": 201
    },
    "colab_type": "code",
    "id": "UhADxGIzNJWh",
    "outputId": "79c2decc-d64b-4ce8-aca2-2306268560a5"
   },
   "outputs": [
    {
     "name": "stdout",
     "output_type": "stream",
     "text": [
      "+-----------+--------------------+\n",
      "|star_rating|count_of_total_votes|\n",
      "+-----------+--------------------+\n",
      "|5          |3293                |\n",
      "|4          |2951                |\n",
      "|3          |1139                |\n",
      "|2          |357                 |\n",
      "|1          |143                 |\n",
      "+-----------+--------------------+\n",
      "\n"
     ]
    }
   ],
   "source": [
    "from pyspark.sql.functions import desc\n",
    "vine_reviews_df = vine_users.select([\"star_rating\",\"total_votes\"])\\\n",
    "         .groupBy(\"star_rating\")\\\n",
    "         .agg({\"total_votes\": \"count\"})\n",
    "\n",
    "vine_reviews_df2 = vine_reviews_df.withColumnRenamed('count(total_votes)','count_of_total_votes')\n",
    "vine_reviews_df2.orderBy(desc(\"count_of_total_votes\")).show(truncate=False)"
   ]
  },
  {
   "cell_type": "markdown",
   "metadata": {
    "colab_type": "text",
    "id": "eWzl7a5hvCH_"
   },
   "source": [
    "Get total votes and helpful votes for vine users by star rating."
   ]
  },
  {
   "cell_type": "code",
   "execution_count": null,
   "metadata": {
    "colab": {
     "base_uri": "https://localhost:8080/",
     "height": 201
    },
    "colab_type": "code",
    "id": "aeWKA309utdb",
    "outputId": "1150e713-24e4-49ce-f8e1-3eaf0f2ee8f8"
   },
   "outputs": [
    {
     "name": "stdout",
     "output_type": "stream",
     "text": [
      "+-----------+------------------+--------------------+\n",
      "|star_rating|sum_of_total_votes|sum_of_helpful_votes|\n",
      "+-----------+------------------+--------------------+\n",
      "|5          |34292             |30045               |\n",
      "|4          |26484             |23104               |\n",
      "|3          |12791             |10682               |\n",
      "|2          |3089              |2269                |\n",
      "|1          |1500              |1094                |\n",
      "+-----------+------------------+--------------------+\n",
      "\n"
     ]
    }
   ],
   "source": [
    "vine_tots_reviews = vine_users.select([\"star_rating\",\"total_votes\", \"helpful_votes\"])\\\n",
    "         .groupBy(\"star_rating\")\\\n",
    "         .agg({\"total_votes\": \"sum\", \"helpful_votes\": \"sum\"})\n",
    "\n",
    "vine_df1 = vine_tots_reviews.withColumnRenamed('sum(total_votes)','sum_of_total_votes')\\\n",
    "                            .withColumnRenamed(\"sum(helpful_votes)\", \"sum_of_helpful_votes\")\n",
    "vine_df2 = vine_df1.orderBy(desc(\"sum_of_total_votes\"))\n",
    "vine_df2.show(truncate=False)"
   ]
  },
  {
   "cell_type": "markdown",
   "metadata": {
    "colab_type": "text",
    "id": "_HFXdgssoAHO"
   },
   "source": [
    "Count non-vine members"
   ]
  },
  {
   "cell_type": "code",
   "execution_count": null,
   "metadata": {
    "colab": {
     "base_uri": "https://localhost:8080/",
     "height": 495
    },
    "colab_type": "code",
    "id": "aESuplI7n5V1",
    "outputId": "cc397e62-8181-4e5a-8874-42edaec3a477"
   },
   "outputs": [
    {
     "name": "stdout",
     "output_type": "stream",
     "text": [
      "+--------------+-----------+-------------+-----------+----+\n",
      "|     review_id|star_rating|helpful_votes|total_votes|vine|\n",
      "+--------------+-----------+-------------+-----------+----+\n",
      "|R1NBG94582SJE2|          5|            0|          0|   N|\n",
      "|R273DCA6Y0H9V7|          5|            0|          0|   N|\n",
      "| RQVOXO7WUOFK6|          2|            1|          1|   N|\n",
      "|R1KWKSF21PO6HO|          5|            0|          0|   N|\n",
      "|R38H3UO1J190GI|          5|            1|          1|   N|\n",
      "|R3NPIFKLR19NQA|          3|            0|          0|   N|\n",
      "|R3MBE6UCH3435E|          3|            8|          8|   N|\n",
      "|R2E7A4FF0PVY5Q|          5|            0|          1|   N|\n",
      "| R3R8JDQ2BF4NM|          5|            0|          2|   N|\n",
      "|R1YND4BS823GN5|          1|            0|          0|   N|\n",
      "|R2TZNSA18V7YF6|          4|            1|          1|   N|\n",
      "|R22ZVRDPPXIDNL|          5|            0|          0|   N|\n",
      "|R1F4O6WOO2W461|          3|            3|          3|   N|\n",
      "| RT1KLS3QSJNUT|          5|            4|          4|   N|\n",
      "|R222VYJL5K5IRS|          5|            0|          0|   N|\n",
      "|R31LUR7M4PQOLU|          5|            0|          0|   N|\n",
      "|R1OD3T3Q042LUQ|          2|            0|          0|   N|\n",
      "|R2QT68OZTT2YKE|          5|            0|          0|   N|\n",
      "| RMFQF59FG3TD1|          4|            0|          0|   N|\n",
      "|R1QNYFW6G31R5T|          1|            1|          3|   N|\n",
      "+--------------+-----------+-------------+-----------+----+\n",
      "only showing top 20 rows\n",
      "\n"
     ]
    }
   ],
   "source": [
    "# Find non-vine users\n",
    "novine_users = vine_df.filter(col(\"vine\")  == \"N\")\n",
    "novine_users.show()"
   ]
  },
  {
   "cell_type": "code",
   "execution_count": null,
   "metadata": {
    "colab": {
     "base_uri": "https://localhost:8080/",
     "height": 35
    },
    "colab_type": "code",
    "id": "9vrNgxEMpPCb",
    "outputId": "48659014-3430-40af-e83a-29baf0455645"
   },
   "outputs": [
    {
     "name": "stdout",
     "output_type": "stream",
     "text": [
      "Number of non-vine users in this dataset: 1794089\n"
     ]
    }
   ],
   "source": [
    "# count rows to verify\n",
    "no_viners = novine_users.count()\n",
    "print(f\"Number of non-vine users in this dataset: {no_viners}\")"
   ]
  },
  {
   "cell_type": "code",
   "execution_count": null,
   "metadata": {
    "colab": {
     "base_uri": "https://localhost:8080/",
     "height": 201
    },
    "colab_type": "code",
    "id": "KFJ2cfclpWKZ",
    "outputId": "bdfdabf3-0b53-40f9-950e-c41ddec6d635"
   },
   "outputs": [
    {
     "name": "stdout",
     "output_type": "stream",
     "text": [
      "+-----------+--------------------+\n",
      "|star_rating|count_of_total_votes|\n",
      "+-----------+--------------------+\n",
      "|5          |1059413             |\n",
      "|4          |333749              |\n",
      "|1          |170014              |\n",
      "|3          |140321              |\n",
      "|2          |90592               |\n",
      "+-----------+--------------------+\n",
      "\n"
     ]
    }
   ],
   "source": [
    "novine_reviews_df = novine_users.select([\"star_rating\",\"total_votes\"])\\\n",
    "         .groupBy(\"star_rating\")\\\n",
    "         .agg({\"total_votes\": \"count\"})\n",
    "\n",
    "novine_reviews_df2 = novine_reviews_df.withColumnRenamed('count(total_votes)','count_of_total_votes')\n",
    "novine_reviews_df2.orderBy(desc(\"count_of_total_votes\")).show(truncate=False)"
   ]
  },
  {
   "cell_type": "code",
   "execution_count": null,
   "metadata": {
    "colab": {
     "base_uri": "https://localhost:8080/",
     "height": 201
    },
    "colab_type": "code",
    "id": "H3rgNGZxunyW",
    "outputId": "654e20b3-a6b3-4198-fa61-d3ee0c07ed2f"
   },
   "outputs": [
    {
     "name": "stdout",
     "output_type": "stream",
     "text": [
      "+-----------+------------------+--------------------+\n",
      "|star_rating|sum_of_total_votes|sum_of_helpful_votes|\n",
      "+-----------+------------------+--------------------+\n",
      "|5          |3174611           |2762260             |\n",
      "|4          |1208102           |1038050             |\n",
      "|1          |1003436           |597930              |\n",
      "|3          |649617            |478698              |\n",
      "|2          |442456            |291343              |\n",
      "+-----------+------------------+--------------------+\n",
      "\n"
     ]
    }
   ],
   "source": [
    "novine_tots_reviews = novine_users.select([\"star_rating\",\"total_votes\", \"helpful_votes\"])\\\n",
    "         .groupBy(\"star_rating\")\\\n",
    "         .agg({\"total_votes\": \"sum\", \"helpful_votes\": \"sum\"})\n",
    "\n",
    "nonvine_df1 = novine_tots_reviews.withColumnRenamed('sum(total_votes)','sum_of_total_votes')\\\n",
    "                            .withColumnRenamed(\"sum(helpful_votes)\", \"sum_of_helpful_votes\")\n",
    "df2 = nonvine_df1.orderBy(desc(\"sum(total_votes)\"))\n",
    "df2.show(truncate=False)"
   ]
  }
 ],
 "metadata": {
  "colab": {
   "collapsed_sections": [],
   "name": "BigDataAWS_Camera.ipynb",
   "provenance": []
  },
  "kernelspec": {
   "display_name": "Python 3",
   "language": "python",
   "name": "python3"
  },
  "language_info": {
   "codemirror_mode": {
    "name": "ipython",
    "version": 3
   },
   "file_extension": ".py",
   "mimetype": "text/x-python",
   "name": "python",
   "nbconvert_exporter": "python",
   "pygments_lexer": "ipython3",
   "version": "3.6.10"
  }
 },
 "nbformat": 4,
 "nbformat_minor": 1
}
