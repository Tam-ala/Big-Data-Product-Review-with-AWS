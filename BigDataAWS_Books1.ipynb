{
  "nbformat": 4,
  "nbformat_minor": 0,
  "metadata": {
    "colab": {
      "name": "BigDataAWS_Books1.ipynb",
      "provenance": [],
      "collapsed_sections": []
    },
    "kernelspec": {
      "name": "python3",
      "display_name": "Python 3"
    }
  },
  "cells": [
    {
      "cell_type": "markdown",
      "metadata": {
        "id": "z34WA0FSem0X"
      },
      "source": [
        "# ETL the data in the first out of a list of book reviews dataset from AWS S3 datasets in order to match the schema."
      ]
    },
    {
      "cell_type": "code",
      "metadata": {
        "id": "Gc0w8jw_7qsk"
      },
      "source": [
        "# Install Java, Spark, and Findspark\n",
        "!apt-get install openjdk-8-jdk-headless -qq > /dev/null\n",
        "!wget -q http://www-us.apache.org/dist/spark/spark-2.4.7/spark-2.4.7-bin-hadoop2.7.tgz\n",
        "!tar xf spark-2.4.7-bin-hadoop2.7.tgz\n",
        "!pip install -q findspark\n",
        " \n",
        "# Set Environment Variables\n",
        "import os\n",
        "os.environ[\"JAVA_HOME\"] = \"/usr/lib/jvm/java-8-openjdk-amd64\"\n",
        "os.environ[\"SPARK_HOME\"] = \"/content/spark-2.4.7-bin-hadoop2.7\"\n",
        " \n",
        "# Start a SparkSession\n",
        "import findspark\n",
        "findspark.init()"
      ],
      "execution_count": null,
      "outputs": []
    },
    {
      "cell_type": "code",
      "metadata": {
        "id": "Y2V4W0sRbG8-",
        "outputId": "242ef3dc-0e0a-4a4c-cca3-83fcc5155203",
        "colab": {
          "base_uri": "https://localhost:8080/",
          "height": 219
        }
      },
      "source": [
        "# import postgres connection\n",
        "!wget https://jdbc.postgresql.org/download/postgresql-42.2.9.jar"
      ],
      "execution_count": null,
      "outputs": [
        {
          "output_type": "stream",
          "text": [
            "--2020-09-23 19:55:49--  https://jdbc.postgresql.org/download/postgresql-42.2.9.jar\n",
            "Resolving jdbc.postgresql.org (jdbc.postgresql.org)... 72.32.157.228, 2001:4800:3e1:1::228\n",
            "Connecting to jdbc.postgresql.org (jdbc.postgresql.org)|72.32.157.228|:443... connected.\n",
            "HTTP request sent, awaiting response... 200 OK\n",
            "Length: 914037 (893K) [application/java-archive]\n",
            "Saving to: ‘postgresql-42.2.9.jar’\n",
            "\n",
            "postgresql-42.2.9.j 100%[===================>] 892.61K  4.94MB/s    in 0.2s    \n",
            "\n",
            "2020-09-23 19:55:50 (4.94 MB/s) - ‘postgresql-42.2.9.jar’ saved [914037/914037]\n",
            "\n"
          ],
          "name": "stdout"
        }
      ]
    },
    {
      "cell_type": "code",
      "metadata": {
        "id": "0nVDFEnB73Ij"
      },
      "source": [
        "from pyspark.sql import SparkSession\n",
        "spark = SparkSession.builder.appName(\"AmazonHWBook1\").config(\"spark.driver.extraClassPath\",\"/content/postgresql-42.2.9.jar\").getOrCreate()"
      ],
      "execution_count": null,
      "outputs": []
    },
    {
      "cell_type": "code",
      "metadata": {
        "id": "xE4X0fnc7gKl"
      },
      "source": [
        "# load csv from AWS S3\n",
        "from pyspark import SparkFiles\n",
        "# Load in user_data.csv from S3 into a DataFrame\n",
        "url = \"https://s3.amazonaws.com/amazon-reviews-pds/tsv/amazon_reviews_us_Books_v1_02.tsv.gz\"\n",
        "spark.sparkContext.addFile(url)"
      ],
      "execution_count": null,
      "outputs": []
    },
    {
      "cell_type": "code",
      "metadata": {
        "id": "E6NVC4ugEDv8",
        "outputId": "044cfa73-af7b-447c-a919-b9c3d6d67283",
        "colab": {
          "base_uri": "https://localhost:8080/",
          "height": 331
        }
      },
      "source": [
        "# make header 'true' and sep '\\t'\n",
        "# verify data is connected\n",
        "df = spark.read.option('header', 'true').csv(SparkFiles.get(\"amazon_reviews_us_Books_v1_02.tsv.gz\"), inferSchema=True, sep='\\t', timestampFormat=\"mm/dd/yy\")\n",
        "df.show(10)"
      ],
      "execution_count": null,
      "outputs": [
        {
          "output_type": "stream",
          "text": [
            "+-----------+-----------+--------------+----------+--------------+--------------------+----------------+-----------+-------------+-----------+----+-----------------+--------------------+--------------------+-------------------+\n",
            "|marketplace|customer_id|     review_id|product_id|product_parent|       product_title|product_category|star_rating|helpful_votes|total_votes|vine|verified_purchase|     review_headline|         review_body|        review_date|\n",
            "+-----------+-----------+--------------+----------+--------------+--------------------+----------------+-----------+-------------+-----------+----+-----------------+--------------------+--------------------+-------------------+\n",
            "|         US|   12076615| RQ58W7SMO911M|0385730586|     122662979|Sisterhood of the...|           Books|          4|            2|          3|   N|                N|this book was a g...|this boook was a ...|2005-10-14 00:00:00|\n",
            "|         US|   12703090|  RF6IUKMGL8SF|0811828964|      56191234|The Bad Girl's Gu...|           Books|          3|            5|          5|   N|                N|           Fun Fluff|If you are lookin...|2005-10-14 00:00:00|\n",
            "|         US|   12257412|R1DOSHH6AI622S|1844161560|     253182049|Eisenhorn (A Warh...|           Books|          4|            1|         22|   N|                N| this isn't a review|never read it-a y...|2005-10-14 00:00:00|\n",
            "|         US|   50732546| RATOTLA3OF70O|0373836635|     348672532|Colby Conspiracy ...|           Books|          5|            2|          2|   N|                N|fine author on he...|Though she is hon...|2005-10-14 00:00:00|\n",
            "|         US|   51964897|R1TNWRKIVHVYOV|0262181533|     598678717|The Psychology of...|           Books|          4|            0|          2|   N|                N|Execellent cursor...|Review based on a...|2005-10-14 00:00:00|\n",
            "|         US|   31048862|R2F53LI9KK9MOY|0316769487|     862964341|The Catcher in th...|           Books|          4|            2|          2|   N|                N|   Interesting, fun.|My only complaint...|2005-10-14 00:00:00|\n",
            "|         US|   53000124|R1KJ6MB7MRSQFF|0805076069|     145341889|Bait and Switch: ...|           Books|          4|            9|         11|   N|                N|I viewed this the...|This book is chil...|2005-10-14 00:00:00|\n",
            "|         US|   29732693|R2XIM9LT335WHE|1581603681|     640542054|Opening Combinati...|           Books|          4|            3|         10|   N|                N|No Frills - Just ...|When looking for ...|2005-10-14 00:00:00|\n",
            "|         US|   48541186|R1VE0FQQ0QTQJN|0300108834|     915891133|A Little History ...|           Books|          5|           16|         20|   N|                Y|Simple, entertain...|Never been much f...|2005-10-14 00:00:00|\n",
            "|         US|   15280864|R1VKEE2NWSWDRU|0446531081|     880645124|Hour Game (King &...|           Books|          4|            0|          0|   N|                N|        A good read!|If you enjoy a we...|2005-10-14 00:00:00|\n",
            "+-----------+-----------+--------------+----------+--------------+--------------------+----------------+-----------+-------------+-----------+----+-----------------+--------------------+--------------------+-------------------+\n",
            "only showing top 10 rows\n",
            "\n"
          ],
          "name": "stdout"
        }
      ]
    },
    {
      "cell_type": "code",
      "metadata": {
        "id": "67M3P0-dV6AV",
        "outputId": "8a14a29a-187a-4179-da4b-e3b5c317d646",
        "colab": {
          "base_uri": "https://localhost:8080/",
          "height": 329
        }
      },
      "source": [
        "# print df schema\n",
        "df.printSchema()"
      ],
      "execution_count": null,
      "outputs": [
        {
          "output_type": "stream",
          "text": [
            "root\n",
            " |-- marketplace: string (nullable = true)\n",
            " |-- customer_id: integer (nullable = true)\n",
            " |-- review_id: string (nullable = true)\n",
            " |-- product_id: string (nullable = true)\n",
            " |-- product_parent: integer (nullable = true)\n",
            " |-- product_title: string (nullable = true)\n",
            " |-- product_category: string (nullable = true)\n",
            " |-- star_rating: integer (nullable = true)\n",
            " |-- helpful_votes: integer (nullable = true)\n",
            " |-- total_votes: integer (nullable = true)\n",
            " |-- vine: string (nullable = true)\n",
            " |-- verified_purchase: string (nullable = true)\n",
            " |-- review_headline: string (nullable = true)\n",
            " |-- review_body: string (nullable = true)\n",
            " |-- review_date: timestamp (nullable = true)\n",
            "\n"
          ],
          "name": "stdout"
        }
      ]
    },
    {
      "cell_type": "markdown",
      "metadata": {
        "id": "SU1W3-ZTegIr"
      },
      "source": [
        "## Count number of records(rows) in this dataset"
      ]
    },
    {
      "cell_type": "code",
      "metadata": {
        "id": "XFIDacwkRFyj",
        "outputId": "8b74a980-a9a1-4fbd-cbe0-0a58197fde15",
        "colab": {
          "base_uri": "https://localhost:8080/",
          "height": 35
        }
      },
      "source": [
        "# count rows\n",
        "row_number = df.count()\n",
        "print(f\"Number of records in this dataset: {row_number}\")"
      ],
      "execution_count": null,
      "outputs": [
        {
          "output_type": "stream",
          "text": [
            "Number of records in this dataset: 3105520\n"
          ],
          "name": "stdout"
        }
      ]
    },
    {
      "cell_type": "markdown",
      "metadata": {
        "id": "yb7NQ-LMebtu"
      },
      "source": [
        "## Create user dataframe to match **review_id_table** table in the schema"
      ]
    },
    {
      "cell_type": "code",
      "metadata": {
        "id": "R2wubJbATj0N",
        "outputId": "ff48dd5e-15b4-4cb3-9162-2e28a73f6f7c",
        "colab": {
          "base_uri": "https://localhost:8080/",
          "height": 311
        }
      },
      "source": [
        "# make df for review\n",
        "review_df = df.select([\"review_id\", \"customer_id\", \"product_id\", \"product_parent\",\"review_date\"])\n",
        "review_df.show(10)"
      ],
      "execution_count": null,
      "outputs": [
        {
          "output_type": "stream",
          "text": [
            "+--------------+-----------+----------+--------------+-------------------+\n",
            "|     review_id|customer_id|product_id|product_parent|        review_date|\n",
            "+--------------+-----------+----------+--------------+-------------------+\n",
            "| RQ58W7SMO911M|   12076615|0385730586|     122662979|2005-10-14 00:00:00|\n",
            "|  RF6IUKMGL8SF|   12703090|0811828964|      56191234|2005-10-14 00:00:00|\n",
            "|R1DOSHH6AI622S|   12257412|1844161560|     253182049|2005-10-14 00:00:00|\n",
            "| RATOTLA3OF70O|   50732546|0373836635|     348672532|2005-10-14 00:00:00|\n",
            "|R1TNWRKIVHVYOV|   51964897|0262181533|     598678717|2005-10-14 00:00:00|\n",
            "|R2F53LI9KK9MOY|   31048862|0316769487|     862964341|2005-10-14 00:00:00|\n",
            "|R1KJ6MB7MRSQFF|   53000124|0805076069|     145341889|2005-10-14 00:00:00|\n",
            "|R2XIM9LT335WHE|   29732693|1581603681|     640542054|2005-10-14 00:00:00|\n",
            "|R1VE0FQQ0QTQJN|   48541186|0300108834|     915891133|2005-10-14 00:00:00|\n",
            "|R1VKEE2NWSWDRU|   15280864|0446531081|     880645124|2005-10-14 00:00:00|\n",
            "+--------------+-----------+----------+--------------+-------------------+\n",
            "only showing top 10 rows\n",
            "\n"
          ],
          "name": "stdout"
        }
      ]
    },
    {
      "cell_type": "code",
      "metadata": {
        "id": "sVl41QkCyYod",
        "outputId": "f1ff5c24-9eac-4c5d-c83b-db427ceb57a3",
        "colab": {
          "base_uri": "https://localhost:8080/",
          "height": 109
        }
      },
      "source": [
        "# double checking that datatype matches schema\n",
        "review_df.dtypes"
      ],
      "execution_count": null,
      "outputs": [
        {
          "output_type": "execute_result",
          "data": {
            "text/plain": [
              "[('review_id', 'string'),\n",
              " ('customer_id', 'int'),\n",
              " ('product_id', 'string'),\n",
              " ('product_parent', 'int'),\n",
              " ('review_date', 'timestamp')]"
            ]
          },
          "metadata": {
            "tags": []
          },
          "execution_count": 10
        }
      ]
    },
    {
      "cell_type": "code",
      "metadata": {
        "id": "6geGKlULyhys",
        "outputId": "f2581dcb-3726-4577-c0c4-a4dd306e2389",
        "colab": {
          "base_uri": "https://localhost:8080/",
          "height": 109
        }
      },
      "source": [
        "# change review_date from timestamp to yyyy-mm-dd format and verify change\n",
        "from pyspark.sql.types import DateType\n",
        "review_df = review_df.withColumn(\"review_date\", review_df['review_date'].cast(DateType()))\n",
        "review_df.dtypes"
      ],
      "execution_count": null,
      "outputs": [
        {
          "output_type": "execute_result",
          "data": {
            "text/plain": [
              "[('review_id', 'string'),\n",
              " ('customer_id', 'int'),\n",
              " ('product_id', 'string'),\n",
              " ('product_parent', 'int'),\n",
              " ('review_date', 'date')]"
            ]
          },
          "metadata": {
            "tags": []
          },
          "execution_count": 11
        }
      ]
    },
    {
      "cell_type": "markdown",
      "metadata": {
        "id": "k6fwEzjoeWY0"
      },
      "source": [
        "## Create user dataframe to match **products** table in the schema"
      ]
    },
    {
      "cell_type": "code",
      "metadata": {
        "id": "Yyi9BMVyUpT3",
        "outputId": "fc9ca0a2-6668-4d96-e165-15bd701d9008",
        "colab": {
          "base_uri": "https://localhost:8080/",
          "height": 311
        }
      },
      "source": [
        "# make df for products and drop duplicates\n",
        "product_df = df.select([\"product_id\", \"product_title\"]).drop_duplicates()\n",
        "product_df.show(10)"
      ],
      "execution_count": null,
      "outputs": [
        {
          "output_type": "stream",
          "text": [
            "+----------+--------------------+\n",
            "|product_id|       product_title|\n",
            "+----------+--------------------+\n",
            "|0029148510|Acts of War: Beha...|\n",
            "|1844494896|Waiting For Kate ...|\n",
            "|0451216954|Dark Lover (Black...|\n",
            "|006056718X|Often Wrong, Neve...|\n",
            "|0965852768|101 Spooktacular ...|\n",
            "|141960435X|Flip Flop Spanish...|\n",
            "|0471282502|Experimental Orga...|\n",
            "|0756613647|Universe: The Def...|\n",
            "|B0006YGCE8|Seismic risk asse...|\n",
            "|207030602X|L Etranger (Folio...|\n",
            "+----------+--------------------+\n",
            "only showing top 10 rows\n",
            "\n"
          ],
          "name": "stdout"
        }
      ]
    },
    {
      "cell_type": "code",
      "metadata": {
        "id": "5fN7L0CdySei",
        "outputId": "98564ce2-ecee-4c68-cb26-1171146a364c",
        "colab": {
          "base_uri": "https://localhost:8080/",
          "height": 35
        }
      },
      "source": [
        "# double checking that datatype matches schema\n",
        "product_df.dtypes"
      ],
      "execution_count": null,
      "outputs": [
        {
          "output_type": "execute_result",
          "data": {
            "text/plain": [
              "[('product_id', 'string'), ('product_title', 'string')]"
            ]
          },
          "metadata": {
            "tags": []
          },
          "execution_count": 13
        }
      ]
    },
    {
      "cell_type": "markdown",
      "metadata": {
        "id": "_8w9hMVldtO-"
      },
      "source": [
        "## Create user dataframe to match **customers** table in the schema"
      ]
    },
    {
      "cell_type": "code",
      "metadata": {
        "id": "r3RI0EWqeGuN",
        "outputId": "5fa5c26d-fb9e-43bc-bffb-256c32baa4ac",
        "colab": {
          "base_uri": "https://localhost:8080/",
          "height": 311
        }
      },
      "source": [
        "# count the number of customers\n",
        "customer = df.groupby('customer_id').agg({\"customer_id\": \"count\"})\n",
        "\n",
        "#rename count(customer_id) column to match schema\n",
        "customer_df = customer.withColumnRenamed('count(customer_id)', 'customer_count')\n",
        "customer_df.show(10)"
      ],
      "execution_count": null,
      "outputs": [
        {
          "output_type": "stream",
          "text": [
            "+-----------+--------------+\n",
            "|customer_id|customer_count|\n",
            "+-----------+--------------+\n",
            "|   28735044|             9|\n",
            "|   15607794|             1|\n",
            "|   15596972|             1|\n",
            "|   32371281|             2|\n",
            "|   12084021|             1|\n",
            "|   14462635|             1|\n",
            "|   41052840|             5|\n",
            "|   52068296|           105|\n",
            "|   51739623|             1|\n",
            "|   14544320|             1|\n",
            "+-----------+--------------+\n",
            "only showing top 10 rows\n",
            "\n"
          ],
          "name": "stdout"
        }
      ]
    },
    {
      "cell_type": "code",
      "metadata": {
        "id": "nT2kelfvx3-w",
        "outputId": "60da8e5e-c26b-4ca1-9f73-68e54c5bdefc",
        "colab": {
          "base_uri": "https://localhost:8080/",
          "height": 35
        }
      },
      "source": [
        "# double checking that datatype matches schema\n",
        "customer_df.dtypes"
      ],
      "execution_count": null,
      "outputs": [
        {
          "output_type": "execute_result",
          "data": {
            "text/plain": [
              "[('customer_id', 'int'), ('customer_count', 'bigint')]"
            ]
          },
          "metadata": {
            "tags": []
          },
          "execution_count": 15
        }
      ]
    },
    {
      "cell_type": "code",
      "metadata": {
        "id": "1N6wv9QzzhDL",
        "outputId": "f755f23d-418b-4eb4-dc11-3fa37f82d99e",
        "colab": {
          "base_uri": "https://localhost:8080/",
          "height": 35
        }
      },
      "source": [
        "# change customer_count from bigint to int & verify change\n",
        "from pyspark.sql.types import IntegerType\n",
        "customer_df = customer_df.withColumn(\"customer_count\",customer_df[\"customer_count\"].cast(IntegerType()))\n",
        "customer_df.dtypes"
      ],
      "execution_count": null,
      "outputs": [
        {
          "output_type": "execute_result",
          "data": {
            "text/plain": [
              "[('customer_id', 'int'), ('customer_count', 'int')]"
            ]
          },
          "metadata": {
            "tags": []
          },
          "execution_count": 16
        }
      ]
    },
    {
      "cell_type": "markdown",
      "metadata": {
        "id": "SnWHIcLKePC-"
      },
      "source": [
        "## Create user dataframe to match **vine_table** table in the schema"
      ]
    },
    {
      "cell_type": "code",
      "metadata": {
        "id": "Yiv4hk_GUo5Q",
        "outputId": "4c77dc5b-ee0f-4c88-bb6a-84d7185251ba",
        "colab": {
          "base_uri": "https://localhost:8080/",
          "height": 311
        }
      },
      "source": [
        "# make df to match schema\n",
        "vine_df = df.select([\"review_id\", \"star_rating\",\"helpful_votes\",\"total_votes\",\"vine\"])\n",
        "vine_df.show(10)"
      ],
      "execution_count": null,
      "outputs": [
        {
          "output_type": "stream",
          "text": [
            "+--------------+-----------+-------------+-----------+----+\n",
            "|     review_id|star_rating|helpful_votes|total_votes|vine|\n",
            "+--------------+-----------+-------------+-----------+----+\n",
            "| RQ58W7SMO911M|          4|            2|          3|   N|\n",
            "|  RF6IUKMGL8SF|          3|            5|          5|   N|\n",
            "|R1DOSHH6AI622S|          4|            1|         22|   N|\n",
            "| RATOTLA3OF70O|          5|            2|          2|   N|\n",
            "|R1TNWRKIVHVYOV|          4|            0|          2|   N|\n",
            "|R2F53LI9KK9MOY|          4|            2|          2|   N|\n",
            "|R1KJ6MB7MRSQFF|          4|            9|         11|   N|\n",
            "|R2XIM9LT335WHE|          4|            3|         10|   N|\n",
            "|R1VE0FQQ0QTQJN|          5|           16|         20|   N|\n",
            "|R1VKEE2NWSWDRU|          4|            0|          0|   N|\n",
            "+--------------+-----------+-------------+-----------+----+\n",
            "only showing top 10 rows\n",
            "\n"
          ],
          "name": "stdout"
        }
      ]
    },
    {
      "cell_type": "code",
      "metadata": {
        "id": "5ue2rWvAxkp7",
        "outputId": "ad1c983c-4086-43e5-f150-9395091d08c3",
        "colab": {
          "base_uri": "https://localhost:8080/",
          "height": 109
        }
      },
      "source": [
        "# double checking that datatype matches schema\n",
        "vine_df.dtypes"
      ],
      "execution_count": null,
      "outputs": [
        {
          "output_type": "execute_result",
          "data": {
            "text/plain": [
              "[('review_id', 'string'),\n",
              " ('star_rating', 'int'),\n",
              " ('helpful_votes', 'int'),\n",
              " ('total_votes', 'int'),\n",
              " ('vine', 'string')]"
            ]
          },
          "metadata": {
            "tags": []
          },
          "execution_count": 18
        }
      ]
    },
    {
      "cell_type": "markdown",
      "metadata": {
        "id": "kQt4xHj0uk8j"
      },
      "source": [
        "## Load the DataFrames that correspond to tables into an RDS instance"
      ]
    },
    {
      "cell_type": "code",
      "metadata": {
        "id": "sVwF0sn_agKF"
      },
      "source": [
        "# Configure settings for RDS\n",
        "mode = \"append\"\n",
        "jdbc_url=\"jdbc:postgresql://awsbookreview.ccll2vhyal1k.us-east-1.rds.amazonaws.com:5432/postgres\"\n",
        "config = {\"user\":\"root\", \n",
        "          \"password\": \"postgres\", \n",
        "          \"driver\":\"org.postgresql.Driver\"}"
      ],
      "execution_count": null,
      "outputs": []
    },
    {
      "cell_type": "code",
      "metadata": {
        "id": "Ewm3lbt7Yz_y"
      },
      "source": [
        "# Write DataFrame to review_df table in RDS\n",
        "review_df.write.jdbc(url=jdbc_url, table='review_id_table', mode=mode, properties=config)"
      ],
      "execution_count": null,
      "outputs": []
    },
    {
      "cell_type": "code",
      "metadata": {
        "id": "C-MTlY3rZiLd"
      },
      "source": [
        "# Write DataFrame to product_df table in RDS\n",
        "product_df.write.jdbc(url=jdbc_url, table='products', mode=mode, properties=config)"
      ],
      "execution_count": null,
      "outputs": []
    },
    {
      "cell_type": "code",
      "metadata": {
        "id": "TXwW41MmZimQ"
      },
      "source": [
        "# Write DataFrame to customer_df table in RDS\n",
        "customer_df.write.jdbc(url=jdbc_url, table='customers', mode=mode, properties=config)"
      ],
      "execution_count": null,
      "outputs": []
    },
    {
      "cell_type": "code",
      "metadata": {
        "id": "nJlJv6ZqZi7c"
      },
      "source": [
        "# Write DataFrame to vine_df table in RDS\n",
        "vine_df.write.jdbc(url=jdbc_url, table='vine_table', mode=mode, properties=config)"
      ],
      "execution_count": null,
      "outputs": []
    },
    {
      "cell_type": "markdown",
      "metadata": {
        "id": "pyTSpyD6RRjk"
      },
      "source": [
        ""
      ]
    },
    {
      "cell_type": "markdown",
      "metadata": {
        "id": "pktZmOS-Qpsl"
      },
      "source": [
        "# Are Vine Reviews Trustworthy?"
      ]
    },
    {
      "cell_type": "markdown",
      "metadata": {
        "id": "R5kYVvLE8m8a"
      },
      "source": [
        "## A Comparison between Vine and Non-Vine Reviewers"
      ]
    },
    {
      "cell_type": "markdown",
      "metadata": {
        "id": "p25xaCrhMbi9"
      },
      "source": [
        "Count vine members"
      ]
    },
    {
      "cell_type": "code",
      "metadata": {
        "id": "GkXKDnIx8lsq",
        "outputId": "ce2c1541-6025-4d74-f861-b56b5c16bcbd",
        "colab": {
          "base_uri": "https://localhost:8080/",
          "height": 146
        }
      },
      "source": [
        "# Load in a sql function to use columns\n",
        "from pyspark.sql.functions import col\n",
        "\n",
        "# Find vine users\n",
        "vine_users = vine_df.filter(col(\"vine\")  == \"Y\")\n",
        "vine_users.show()"
      ],
      "execution_count": null,
      "outputs": [
        {
          "output_type": "stream",
          "text": [
            "+--------------+-----------+-------------+-----------+----+\n",
            "|     review_id|star_rating|helpful_votes|total_votes|vine|\n",
            "+--------------+-----------+-------------+-----------+----+\n",
            "|R2NKNL4WXWIWBG|          4|            3|          3|   Y|\n",
            "| RAIG9ZQDMBF5P|          5|            3|          6|   Y|\n",
            "+--------------+-----------+-------------+-----------+----+\n",
            "\n"
          ],
          "name": "stdout"
        }
      ]
    },
    {
      "cell_type": "code",
      "metadata": {
        "id": "P0PbJCdXMjgt",
        "outputId": "6acabcee-4f93-414e-a484-fb6b6384c5a5",
        "colab": {
          "base_uri": "https://localhost:8080/",
          "height": 35
        }
      },
      "source": [
        "# count rows to verify\n",
        "viners = vine_users.count()\n",
        "print(f\"Number of vine users in this dataset: {viners}\")"
      ],
      "execution_count": null,
      "outputs": [
        {
          "output_type": "stream",
          "text": [
            "Number of vine users in this dataset: 2\n"
          ],
          "name": "stdout"
        }
      ]
    },
    {
      "cell_type": "markdown",
      "metadata": {
        "id": "QasOpxAYMobV"
      },
      "source": [
        "Count number of non-vine members"
      ]
    },
    {
      "cell_type": "code",
      "metadata": {
        "id": "rUIUI56w8lX_",
        "outputId": "43865133-fbf4-45da-c74d-640a16ae8caf",
        "colab": {
          "base_uri": "https://localhost:8080/",
          "height": 495
        }
      },
      "source": [
        "# Find non-vine users\n",
        "novine_users = vine_df.filter(col(\"vine\")  == \"N\")\n",
        "novine_users.show()"
      ],
      "execution_count": null,
      "outputs": [
        {
          "output_type": "stream",
          "text": [
            "+--------------+-----------+-------------+-----------+----+\n",
            "|     review_id|star_rating|helpful_votes|total_votes|vine|\n",
            "+--------------+-----------+-------------+-----------+----+\n",
            "| RQ58W7SMO911M|          4|            2|          3|   N|\n",
            "|  RF6IUKMGL8SF|          3|            5|          5|   N|\n",
            "|R1DOSHH6AI622S|          4|            1|         22|   N|\n",
            "| RATOTLA3OF70O|          5|            2|          2|   N|\n",
            "|R1TNWRKIVHVYOV|          4|            0|          2|   N|\n",
            "|R2F53LI9KK9MOY|          4|            2|          2|   N|\n",
            "|R1KJ6MB7MRSQFF|          4|            9|         11|   N|\n",
            "|R2XIM9LT335WHE|          4|            3|         10|   N|\n",
            "|R1VE0FQQ0QTQJN|          5|           16|         20|   N|\n",
            "|R1VKEE2NWSWDRU|          4|            0|          0|   N|\n",
            "|R2UP6XSVYJBJ2H|          5|            0|          0|   N|\n",
            "|R21SYDQ70ILUC0|          5|            1|          1|   N|\n",
            "| R7M06Z88PD7SX|          4|           14|         14|   N|\n",
            "| RRS38KZ4WB5O2|          5|            1|          1|   N|\n",
            "|R2YDYRSLGNHPHR|          4|           16|         19|   N|\n",
            "|R1BMPM18O6VZOR|          4|           13|         14|   N|\n",
            "|R1AABFZH0J0C0C|          3|           17|         35|   N|\n",
            "|R3SJYLG07EHNE9|          2|           16|         34|   N|\n",
            "|R2TIO43ND87XVO|          5|            1|          1|   N|\n",
            "|R18TY4WD19OUAO|          5|            1|          1|   N|\n",
            "+--------------+-----------+-------------+-----------+----+\n",
            "only showing top 20 rows\n",
            "\n"
          ],
          "name": "stdout"
        }
      ]
    },
    {
      "cell_type": "code",
      "metadata": {
        "id": "1P7sLCN_BmGM",
        "outputId": "cc58ec7d-9a01-47fc-ed7f-110c5fe5a059",
        "colab": {
          "base_uri": "https://localhost:8080/",
          "height": 35
        }
      },
      "source": [
        "# count rows\n",
        "no_viners = novine_users.count()\n",
        "print(f\"Number of non-vine users in this dataset: {no_viners}\")"
      ],
      "execution_count": null,
      "outputs": [
        {
          "output_type": "stream",
          "text": [
            "Number of non-vine users in this dataset: 3105513\n"
          ],
          "name": "stdout"
        }
      ]
    },
    {
      "cell_type": "markdown",
      "metadata": {
        "id": "d7RYgYjENI2w"
      },
      "source": [
        "Total votes by star rating amongst non-vine users"
      ]
    },
    {
      "cell_type": "code",
      "metadata": {
        "id": "UhADxGIzNJWh",
        "outputId": "30ff7d61-1fc6-4974-c8ea-12925800588e",
        "colab": {
          "base_uri": "https://localhost:8080/",
          "height": 201
        }
      },
      "source": [
        "from pyspark.sql.functions import desc\n",
        "novine_reviews_df = novine_users.select([\"star_rating\",\"total_votes\"])\\\n",
        "         .groupBy(\"star_rating\")\\\n",
        "         .agg({\"total_votes\": \"count\"})\n",
        "\n",
        "novine_reviews_df.orderBy(desc(\"count(total_votes)\")).show(truncate=False)"
      ],
      "execution_count": null,
      "outputs": [
        {
          "output_type": "stream",
          "text": [
            "+-----------+------------------+\n",
            "|star_rating|count(total_votes)|\n",
            "+-----------+------------------+\n",
            "|5          |1864803           |\n",
            "|4          |586180            |\n",
            "|3          |249925            |\n",
            "|1          |238221            |\n",
            "|2          |166384            |\n",
            "+-----------+------------------+\n",
            "\n"
          ],
          "name": "stdout"
        }
      ]
    },
    {
      "cell_type": "code",
      "metadata": {
        "id": "Yy7ylTUAUdKW",
        "outputId": "8daae626-94cc-4379-d5a4-beb01fc006f8",
        "colab": {
          "base_uri": "https://localhost:8080/",
          "height": 201
        }
      },
      "source": [
        "novine_tots_reviews = novine_users.select([\"star_rating\",\"total_votes\", \"helpful_votes\"])\\\n",
        "         .groupBy(\"star_rating\")\\\n",
        "         .agg({\"total_votes\": \"sum\", \"helpful_votes\": \"sum\"})\n",
        "\n",
        "df1 = novine_tots_reviews.orderBy(desc(\"sum(total_votes)\"))\n",
        "df1.show(truncate=False)"
      ],
      "execution_count": null,
      "outputs": [
        {
          "output_type": "stream",
          "text": [
            "+-----------+----------------+------------------+\n",
            "|star_rating|sum(total_votes)|sum(helpful_votes)|\n",
            "+-----------+----------------+------------------+\n",
            "|5          |20824555        |17667965          |\n",
            "|1          |6321283         |2965719           |\n",
            "|4          |5524832         |4539419           |\n",
            "|3          |3060700         |2139865           |\n",
            "|2          |2777252         |1676047           |\n",
            "+-----------+----------------+------------------+\n",
            "\n"
          ],
          "name": "stdout"
        }
      ]
    },
    {
      "cell_type": "markdown",
      "metadata": {
        "id": "crs86qDqQ0Xk"
      },
      "source": [
        "Select columns to find more information about the purchases made by the customers."
      ]
    },
    {
      "cell_type": "code",
      "metadata": {
        "id": "VGtlszEcQyns"
      },
      "source": [
        "# select columns and group by product\n",
        "selected_df = df.select(\"product_id\",\"product_title\",\"star_rating\",\"helpful_votes\",\"total_votes\",\"vine\",\"verified_purchase\")\n",
        "grouped_df = selected_df.groupBy(\"product_id\",\"product_title\")\\\n",
        "                        .agg({\"total_votes\":\"sum\",\"helpful_votes\":\"sum\",\"star_rating\":\"avg\"})"
      ],
      "execution_count": null,
      "outputs": []
    },
    {
      "cell_type": "markdown",
      "metadata": {
        "id": "glOA6ZIXgjJc"
      },
      "source": [
        "TOP 10 TOTAL VOTES"
      ]
    },
    {
      "cell_type": "code",
      "metadata": {
        "id": "fBtbKsLHgaeG",
        "outputId": "c4992214-9612-4cd5-84f2-7d5dc6c308e3",
        "colab": {
          "base_uri": "https://localhost:8080/",
          "height": 331
        }
      },
      "source": [
        "# order by sum of total votes\n",
        "ordered_df = grouped_df.orderBy(desc(\"sum(total_votes)\"))\n",
        "ordered_df.show(10, truncate=False)"
      ],
      "execution_count": null,
      "outputs": [
        {
          "output_type": "stream",
          "text": [
            "+----------+------------------------------------------------------------------------------------------------------+----------------+------------------+------------------+\n",
            "|product_id|product_title                                                                                         |sum(total_votes)|avg(star_rating)  |sum(helpful_votes)|\n",
            "+----------+------------------------------------------------------------------------------------------------------+----------------+------------------+------------------+\n",
            "|0895260174|Unfit For Command: Swift Boat Veterans Speak Out Against John Kerry                                   |130574          |3.4481835564053536|75801             |\n",
            "|0525947647|Lies and the Lying Liars Who Tell Them                                                                |66835           |3.8495873968492123|30753             |\n",
            "|1400050308|Treason: Liberal Treachery from the Cold War to the War on Terrorism                                  |48221           |2.966573816155989 |23413             |\n",
            "|0060763957|Michael Moore Is a Big Fat Stupid White Man                                                           |41781           |3.3507340946166395|19881             |\n",
            "|0060761288|100 People Who Are Screwing Up America (And Al Franken Is #37)                                        |38187           |3.088467614533965 |17233             |\n",
            "|0060582510|Deliver Us from Evil: Defeating Terrorism, Despotism, and Liberalism                                  |37554           |3.760187040748163 |18734             |\n",
            "|0385504209|The Da Vinci Code                                                                                     |36150           |3.4787151702786376|21213             |\n",
            "|0446677450|Rich Dad, Poor Dad: What the Rich Teach Their Kids About Money--That the Poor and Middle Class Do Not!|32725           |3.644262295081967 |27752             |\n",
            "|0140277447|The Rape of Nanking: The Forgotten Holocaust of World War II                                          |31186           |3.98921832884097  |20122             |\n",
            "|1400046610|Slander: Liberal Lies About the American Right                                                        |29302           |3.394179894179894 |15378             |\n",
            "+----------+------------------------------------------------------------------------------------------------------+----------------+------------------+------------------+\n",
            "only showing top 10 rows\n",
            "\n"
          ],
          "name": "stdout"
        }
      ]
    },
    {
      "cell_type": "markdown",
      "metadata": {
        "id": "H4pylA-2gAgS"
      },
      "source": [
        "TOP 10 HELPFUL VOTES"
      ]
    },
    {
      "cell_type": "code",
      "metadata": {
        "id": "_qVd0gKwcf5F",
        "outputId": "95beac4b-9a42-4474-a321-b3627df7c203",
        "colab": {
          "base_uri": "https://localhost:8080/",
          "height": 331
        }
      },
      "source": [
        "# order by sum of helpful votes\n",
        "ordered_df2 = grouped_df.orderBy(desc(\"sum(helpful_votes)\"))\n",
        "ordered_df2.show(10, truncate=False)"
      ],
      "execution_count": null,
      "outputs": [
        {
          "output_type": "stream",
          "text": [
            "+----------+------------------------------------------------------------------------------------------------------+----------------+------------------+------------------+\n",
            "|product_id|product_title                                                                                         |sum(total_votes)|avg(star_rating)  |sum(helpful_votes)|\n",
            "+----------+------------------------------------------------------------------------------------------------------+----------------+------------------+------------------+\n",
            "|0895260174|Unfit For Command: Swift Boat Veterans Speak Out Against John Kerry                                   |130574          |3.4481835564053536|75801             |\n",
            "|0525947647|Lies and the Lying Liars Who Tell Them                                                                |66835           |3.8495873968492123|30753             |\n",
            "|0446677450|Rich Dad, Poor Dad: What the Rich Teach Their Kids About Money--That the Poor and Middle Class Do Not!|32725           |3.644262295081967 |27752             |\n",
            "|0972082115|Azucar! The Story of Sugar                                                                            |26158           |4.944444444444445 |26082             |\n",
            "|1400050308|Treason: Liberal Treachery from the Cold War to the War on Terrorism                                  |48221           |2.966573816155989 |23413             |\n",
            "|0385504209|The Da Vinci Code                                                                                     |36150           |3.4787151702786376|21213             |\n",
            "|0140277447|The Rape of Nanking: The Forgotten Holocaust of World War II                                          |31186           |3.98921832884097  |20122             |\n",
            "|0060763957|Michael Moore Is a Big Fat Stupid White Man                                                           |41781           |3.3507340946166395|19881             |\n",
            "|0060582510|Deliver Us from Evil: Defeating Terrorism, Despotism, and Liberalism                                  |37554           |3.760187040748163 |18734             |\n",
            "|0060761288|100 People Who Are Screwing Up America (And Al Franken Is #37)                                        |38187           |3.088467614533965 |17233             |\n",
            "+----------+------------------------------------------------------------------------------------------------------+----------------+------------------+------------------+\n",
            "only showing top 10 rows\n",
            "\n"
          ],
          "name": "stdout"
        }
      ]
    },
    {
      "cell_type": "markdown",
      "metadata": {
        "id": "5HE3bW1Xf7IC"
      },
      "source": [
        "TOP 10 AVERAGE STAR RATING"
      ]
    },
    {
      "cell_type": "code",
      "metadata": {
        "id": "Ql2aNgVRdijf",
        "outputId": "deaaa4ea-cde7-4430-85f8-acdf6f8d16b4",
        "colab": {
          "base_uri": "https://localhost:8080/",
          "height": 331
        }
      },
      "source": [
        "# order by sum of helpful votes\n",
        "ordered_df3 = grouped_df.orderBy(desc(\"avg(star_rating)\"))\n",
        "ordered_df3.show(10, truncate=False)"
      ],
      "execution_count": null,
      "outputs": [
        {
          "output_type": "stream",
          "text": [
            "+----------+------------------------------------------------------------------------------------------------------------------------+----------------+----------------+------------------+\n",
            "|product_id|product_title                                                                                                           |sum(total_votes)|avg(star_rating)|sum(helpful_votes)|\n",
            "+----------+------------------------------------------------------------------------------------------------------------------------+----------------+----------------+------------------+\n",
            "|0316141674|The Team That Couldn't Lose: Who is Sending the Plays That Make the Team Unstoppable? (Matt Christopher Sports Classics)|29              |5.0             |28                |\n",
            "|0385148070|The Old Gods Waken                                                                                                      |26              |5.0             |22                |\n",
            "|059042808X|The Pike River Phantom                                                                                                  |1               |5.0             |1                 |\n",
            "|0899068960|The Complete Artscroll Machzor: Yom Kippur (Pocket size edition) (ArtScroll Mesorah)                                    |2               |5.0             |2                 |\n",
            "|1592573924|The Complete Idiot's Guide to Toltec Wisdom                                                                             |109             |5.0             |103               |\n",
            "|0060745665|Second Space: New Poems                                                                                                 |24              |5.0             |24                |\n",
            "|0395533554|The Journey Home                                                                                                        |5               |5.0             |4                 |\n",
            "|0486289656|Easy-to-Make Whirligigs (Dover Woodworking)                                                                             |28              |5.0             |22                |\n",
            "|0843954256|Manitou Blood                                                                                                           |14              |5.0             |10                |\n",
            "|0961330716|Sassafras: The Ozarks Cookbook                                                                                          |4               |5.0             |4                 |\n",
            "+----------+------------------------------------------------------------------------------------------------------------------------+----------------+----------------+------------------+\n",
            "only showing top 10 rows\n",
            "\n"
          ],
          "name": "stdout"
        }
      ]
    },
    {
      "cell_type": "markdown",
      "metadata": {
        "id": "7UZydPG7cwvy"
      },
      "source": [
        "Vine and Non-Vine Customers"
      ]
    },
    {
      "cell_type": "code",
      "metadata": {
        "id": "x16I_NeQQ338",
        "outputId": "0b0940d6-eb40-4084-98d8-ef0a7873cc3f",
        "colab": {
          "base_uri": "https://localhost:8080/",
          "height": 182
        }
      },
      "source": [
        "# comparing total number of verified/non-verified vine/non-vine members\n",
        "group_vine = selected_df.groupBy(\"vine\",\"verified_purchase\")\\\n",
        "                        .agg({\"total_votes\":\"sum\",\"helpful_votes\":\"sum\",\"star_rating\":\"avg\"})\n",
        "\n",
        "group_vine.na.drop().show()"
      ],
      "execution_count": null,
      "outputs": [
        {
          "output_type": "stream",
          "text": [
            "+----+-----------------+----------------+------------------+------------------+\n",
            "|vine|verified_purchase|sum(total_votes)|  avg(star_rating)|sum(helpful_votes)|\n",
            "+----+-----------------+----------------+------------------+------------------+\n",
            "|   Y|                Y|               3|               4.0|                 3|\n",
            "|   Y|                N|               6|               5.0|                 3|\n",
            "|   N|                Y|         3827193|4.1797736151806895|           3136381|\n",
            "|   N|                N|        34681429| 4.182957607845714|          25852634|\n",
            "+----+-----------------+----------------+------------------+------------------+\n",
            "\n"
          ],
          "name": "stdout"
        }
      ]
    },
    {
      "cell_type": "code",
      "metadata": {
        "id": "IvUMcxq8XJOW",
        "outputId": "b8c963e6-c9cf-4202-edcb-a8ea63c5ef65",
        "colab": {
          "base_uri": "https://localhost:8080/",
          "height": 146
        }
      },
      "source": [
        "vine_selected = selected_df.filter(col(\"vine\")  == \"Y\")\n",
        "vine_selected.show()"
      ],
      "execution_count": null,
      "outputs": [
        {
          "output_type": "stream",
          "text": [
            "+----------+--------------------+-----------+-------------+-----------+----+-----------------+\n",
            "|product_id|       product_title|star_rating|helpful_votes|total_votes|vine|verified_purchase|\n",
            "+----------+--------------------+-----------+-------------+-----------+----+-----------------+\n",
            "|1400062217|The Laments: A Novel|          4|            3|          3|   Y|                Y|\n",
            "|0679742034|    Buffalo Soldiers|          5|            3|          6|   Y|                N|\n",
            "+----------+--------------------+-----------+-------------+-----------+----+-----------------+\n",
            "\n"
          ],
          "name": "stdout"
        }
      ]
    },
    {
      "cell_type": "code",
      "metadata": {
        "id": "isVYHRTDmno9",
        "outputId": "132398b1-2cfb-4a8e-8e02-d332d33068cb",
        "colab": {
          "base_uri": "https://localhost:8080/",
          "height": 311
        }
      },
      "source": [
        "novine_selected = selected_df.filter(col(\"vine\")  == \"N\")\n",
        "novine_selected.show(10, truncate=False)"
      ],
      "execution_count": null,
      "outputs": [
        {
          "output_type": "stream",
          "text": [
            "+----------+--------------------------------------------------------------+-----------+-------------+-----------+----+-----------------+\n",
            "|product_id|product_title                                                 |star_rating|helpful_votes|total_votes|vine|verified_purchase|\n",
            "+----------+--------------------------------------------------------------+-----------+-------------+-----------+----+-----------------+\n",
            "|0385730586|Sisterhood of the Traveling Pants (Book 1)                    |4          |2            |3          |N   |N                |\n",
            "|0811828964|The Bad Girl's Guide to Getting What You Want                 |3          |5            |5          |N   |N                |\n",
            "|1844161560|Eisenhorn (A Warhammer 40,000 Omnibus)                        |4          |1            |22         |N   |N                |\n",
            "|0373836635|Colby Conspiracy (Colby Agency)                               |5          |2            |2          |N   |N                |\n",
            "|0262181533|The Psychology of Proof: Deductive Reasoning in Human Thinking|4          |0            |2          |N   |N                |\n",
            "|0316769487|The Catcher in the Rye                                        |4          |2            |2          |N   |N                |\n",
            "|0805076069|Bait and Switch: The (Futile) Pursuit of the American Dream   |4          |9            |11         |N   |N                |\n",
            "|1581603681|Opening Combination Padlocks: No Tools, No Problem            |4          |3            |10         |N   |N                |\n",
            "|0300108834|A Little History of the World (Little Histories)              |5          |16           |20         |N   |Y                |\n",
            "|0446531081|Hour Game (King & Maxwell)                                    |4          |0            |0          |N   |N                |\n",
            "+----------+--------------------------------------------------------------+-----------+-------------+-----------+----+-----------------+\n",
            "only showing top 10 rows\n",
            "\n"
          ],
          "name": "stdout"
        }
      ]
    }
  ]
}