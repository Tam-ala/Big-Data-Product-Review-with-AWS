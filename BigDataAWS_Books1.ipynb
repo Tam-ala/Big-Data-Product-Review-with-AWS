{
 "cells": [
  {
   "cell_type": "markdown",
   "metadata": {
    "colab_type": "text",
    "id": "z34WA0FSem0X"
   },
   "source": [
    "# ETL the data in the first out of a list of book reviews dataset from AWS S3 datasets in order to match the schema."
   ]
  },
  {
   "cell_type": "code",
   "execution_count": null,
   "metadata": {
    "colab": {},
    "colab_type": "code",
    "id": "Gc0w8jw_7qsk"
   },
   "outputs": [],
   "source": [
    "# Install Java, Spark, and Findspark\n",
    "!apt-get install openjdk-8-jdk-headless -qq > /dev/null\n",
    "!wget -q http://www-us.apache.org/dist/spark/spark-2.4.7/spark-2.4.7-bin-hadoop2.7.tgz\n",
    "!tar xf spark-2.4.7-bin-hadoop2.7.tgz\n",
    "!pip install -q findspark\n",
    " \n",
    "# Set Environment Variables\n",
    "import os\n",
    "os.environ[\"JAVA_HOME\"] = \"/usr/lib/jvm/java-8-openjdk-amd64\"\n",
    "os.environ[\"SPARK_HOME\"] = \"/content/spark-2.4.7-bin-hadoop2.7\"\n",
    " \n",
    "# Start a SparkSession\n",
    "import findspark\n",
    "findspark.init()"
   ]
  },
  {
   "cell_type": "code",
   "execution_count": null,
   "metadata": {
    "colab": {
     "base_uri": "https://localhost:8080/",
     "height": 219
    },
    "colab_type": "code",
    "id": "Y2V4W0sRbG8-",
    "outputId": "13c0403d-36d7-4350-d9cf-1197710166af"
   },
   "outputs": [
    {
     "name": "stdout",
     "output_type": "stream",
     "text": [
      "--2020-09-22 00:55:58--  https://jdbc.postgresql.org/download/postgresql-42.2.9.jar\n",
      "Resolving jdbc.postgresql.org (jdbc.postgresql.org)... 72.32.157.228, 2001:4800:3e1:1::228\n",
      "Connecting to jdbc.postgresql.org (jdbc.postgresql.org)|72.32.157.228|:443... connected.\n",
      "HTTP request sent, awaiting response... 200 OK\n",
      "Length: 914037 (893K) [application/java-archive]\n",
      "Saving to: ‘postgresql-42.2.9.jar.1’\n",
      "\n",
      "postgresql-42.2.9.j 100%[===================>] 892.61K  --.-KB/s    in 0.1s    \n",
      "\n",
      "2020-09-22 00:55:59 (7.41 MB/s) - ‘postgresql-42.2.9.jar.1’ saved [914037/914037]\n",
      "\n"
     ]
    }
   ],
   "source": [
    "# import postgres connection\n",
    "!wget https://jdbc.postgresql.org/download/postgresql-42.2.9.jar"
   ]
  },
  {
   "cell_type": "code",
   "execution_count": null,
   "metadata": {
    "colab": {},
    "colab_type": "code",
    "id": "0nVDFEnB73Ij"
   },
   "outputs": [],
   "source": [
    "from pyspark.sql import SparkSession\n",
    "spark = SparkSession.builder.appName(\"AmazonHWBook1\").config(\"spark.driver.extraClassPath\",\"/content/postgresql-42.2.9.jar\").getOrCreate()"
   ]
  },
  {
   "cell_type": "code",
   "execution_count": null,
   "metadata": {
    "colab": {},
    "colab_type": "code",
    "id": "xE4X0fnc7gKl"
   },
   "outputs": [],
   "source": [
    "# load csv from AWS S3\n",
    "from pyspark import SparkFiles\n",
    "# Load in user_data.csv from S3 into a DataFrame\n",
    "url = \"https://s3.amazonaws.com/amazon-reviews-pds/tsv/amazon_reviews_us_Books_v1_02.tsv.gz\"\n",
    "spark.sparkContext.addFile(url)"
   ]
  },
  {
   "cell_type": "code",
   "execution_count": null,
   "metadata": {
    "colab": {
     "base_uri": "https://localhost:8080/",
     "height": 331
    },
    "colab_type": "code",
    "id": "E6NVC4ugEDv8",
    "outputId": "01236772-8909-40dc-d095-4ad612b6a6cd"
   },
   "outputs": [
    {
     "name": "stdout",
     "output_type": "stream",
     "text": [
      "+-----------+-----------+--------------+----------+--------------+--------------------+----------------+-----------+-------------+-----------+----+-----------------+--------------------+--------------------+-------------------+\n",
      "|marketplace|customer_id|     review_id|product_id|product_parent|       product_title|product_category|star_rating|helpful_votes|total_votes|vine|verified_purchase|     review_headline|         review_body|        review_date|\n",
      "+-----------+-----------+--------------+----------+--------------+--------------------+----------------+-----------+-------------+-----------+----+-----------------+--------------------+--------------------+-------------------+\n",
      "|         US|   12076615| RQ58W7SMO911M|0385730586|     122662979|Sisterhood of the...|           Books|          4|            2|          3|   N|                N|this book was a g...|this boook was a ...|2005-10-14 00:00:00|\n",
      "|         US|   12703090|  RF6IUKMGL8SF|0811828964|      56191234|The Bad Girl's Gu...|           Books|          3|            5|          5|   N|                N|           Fun Fluff|If you are lookin...|2005-10-14 00:00:00|\n",
      "|         US|   12257412|R1DOSHH6AI622S|1844161560|     253182049|Eisenhorn (A Warh...|           Books|          4|            1|         22|   N|                N| this isn't a review|never read it-a y...|2005-10-14 00:00:00|\n",
      "|         US|   50732546| RATOTLA3OF70O|0373836635|     348672532|Colby Conspiracy ...|           Books|          5|            2|          2|   N|                N|fine author on he...|Though she is hon...|2005-10-14 00:00:00|\n",
      "|         US|   51964897|R1TNWRKIVHVYOV|0262181533|     598678717|The Psychology of...|           Books|          4|            0|          2|   N|                N|Execellent cursor...|Review based on a...|2005-10-14 00:00:00|\n",
      "|         US|   31048862|R2F53LI9KK9MOY|0316769487|     862964341|The Catcher in th...|           Books|          4|            2|          2|   N|                N|   Interesting, fun.|My only complaint...|2005-10-14 00:00:00|\n",
      "|         US|   53000124|R1KJ6MB7MRSQFF|0805076069|     145341889|Bait and Switch: ...|           Books|          4|            9|         11|   N|                N|I viewed this the...|This book is chil...|2005-10-14 00:00:00|\n",
      "|         US|   29732693|R2XIM9LT335WHE|1581603681|     640542054|Opening Combinati...|           Books|          4|            3|         10|   N|                N|No Frills - Just ...|When looking for ...|2005-10-14 00:00:00|\n",
      "|         US|   48541186|R1VE0FQQ0QTQJN|0300108834|     915891133|A Little History ...|           Books|          5|           16|         20|   N|                Y|Simple, entertain...|Never been much f...|2005-10-14 00:00:00|\n",
      "|         US|   15280864|R1VKEE2NWSWDRU|0446531081|     880645124|Hour Game (King &...|           Books|          4|            0|          0|   N|                N|        A good read!|If you enjoy a we...|2005-10-14 00:00:00|\n",
      "+-----------+-----------+--------------+----------+--------------+--------------------+----------------+-----------+-------------+-----------+----+-----------------+--------------------+--------------------+-------------------+\n",
      "only showing top 10 rows\n",
      "\n"
     ]
    }
   ],
   "source": [
    "# make header 'true' and sep '\\t'\n",
    "# verify data is connected\n",
    "df = spark.read.option('header', 'true').csv(SparkFiles.get(\"amazon_reviews_us_Books_v1_02.tsv.gz\"), inferSchema=True, sep='\\t', timestampFormat=\"mm/dd/yy\")\n",
    "df.show(10)"
   ]
  },
  {
   "cell_type": "code",
   "execution_count": null,
   "metadata": {
    "colab": {
     "base_uri": "https://localhost:8080/",
     "height": 329
    },
    "colab_type": "code",
    "id": "67M3P0-dV6AV",
    "outputId": "ec0c29d8-1eae-4d95-b3f1-03e9402130a7"
   },
   "outputs": [
    {
     "name": "stdout",
     "output_type": "stream",
     "text": [
      "root\n",
      " |-- marketplace: string (nullable = true)\n",
      " |-- customer_id: integer (nullable = true)\n",
      " |-- review_id: string (nullable = true)\n",
      " |-- product_id: string (nullable = true)\n",
      " |-- product_parent: integer (nullable = true)\n",
      " |-- product_title: string (nullable = true)\n",
      " |-- product_category: string (nullable = true)\n",
      " |-- star_rating: integer (nullable = true)\n",
      " |-- helpful_votes: integer (nullable = true)\n",
      " |-- total_votes: integer (nullable = true)\n",
      " |-- vine: string (nullable = true)\n",
      " |-- verified_purchase: string (nullable = true)\n",
      " |-- review_headline: string (nullable = true)\n",
      " |-- review_body: string (nullable = true)\n",
      " |-- review_date: timestamp (nullable = true)\n",
      "\n"
     ]
    }
   ],
   "source": [
    "# print df schema\n",
    "df.printSchema()"
   ]
  },
  {
   "cell_type": "markdown",
   "metadata": {
    "colab_type": "text",
    "id": "SU1W3-ZTegIr"
   },
   "source": [
    "## Count number of records(rows) in this dataset"
   ]
  },
  {
   "cell_type": "code",
   "execution_count": null,
   "metadata": {
    "colab": {
     "base_uri": "https://localhost:8080/",
     "height": 35
    },
    "colab_type": "code",
    "id": "XFIDacwkRFyj",
    "outputId": "eb26d2b7-f788-4fae-a94e-c79ea2c61b00"
   },
   "outputs": [
    {
     "name": "stdout",
     "output_type": "stream",
     "text": [
      "Number of records in this dataset: 3105520\n"
     ]
    }
   ],
   "source": [
    "# count rows\n",
    "row_number = df.count()\n",
    "print(f\"Number of records in this dataset: {row_number}\")"
   ]
  },
  {
   "cell_type": "markdown",
   "metadata": {
    "colab_type": "text",
    "id": "yb7NQ-LMebtu"
   },
   "source": [
    "## Create user dataframe to match **review_id_table** table in the schema"
   ]
  },
  {
   "cell_type": "code",
   "execution_count": null,
   "metadata": {
    "colab": {
     "base_uri": "https://localhost:8080/",
     "height": 311
    },
    "colab_type": "code",
    "id": "R2wubJbATj0N",
    "outputId": "8abad7ee-d296-4bee-ecbf-003587f8cf1b"
   },
   "outputs": [
    {
     "name": "stdout",
     "output_type": "stream",
     "text": [
      "+--------------+-----------+----------+--------------+-------------------+\n",
      "|     review_id|customer_id|product_id|product_parent|        review_date|\n",
      "+--------------+-----------+----------+--------------+-------------------+\n",
      "| RQ58W7SMO911M|   12076615|0385730586|     122662979|2005-10-14 00:00:00|\n",
      "|  RF6IUKMGL8SF|   12703090|0811828964|      56191234|2005-10-14 00:00:00|\n",
      "|R1DOSHH6AI622S|   12257412|1844161560|     253182049|2005-10-14 00:00:00|\n",
      "| RATOTLA3OF70O|   50732546|0373836635|     348672532|2005-10-14 00:00:00|\n",
      "|R1TNWRKIVHVYOV|   51964897|0262181533|     598678717|2005-10-14 00:00:00|\n",
      "|R2F53LI9KK9MOY|   31048862|0316769487|     862964341|2005-10-14 00:00:00|\n",
      "|R1KJ6MB7MRSQFF|   53000124|0805076069|     145341889|2005-10-14 00:00:00|\n",
      "|R2XIM9LT335WHE|   29732693|1581603681|     640542054|2005-10-14 00:00:00|\n",
      "|R1VE0FQQ0QTQJN|   48541186|0300108834|     915891133|2005-10-14 00:00:00|\n",
      "|R1VKEE2NWSWDRU|   15280864|0446531081|     880645124|2005-10-14 00:00:00|\n",
      "+--------------+-----------+----------+--------------+-------------------+\n",
      "only showing top 10 rows\n",
      "\n"
     ]
    }
   ],
   "source": [
    "# make df for review\n",
    "review_df = df.select([\"review_id\", \"customer_id\", \"product_id\", \"product_parent\",\"review_date\"])\n",
    "review_df.show(10)"
   ]
  },
  {
   "cell_type": "code",
   "execution_count": null,
   "metadata": {
    "colab": {
     "base_uri": "https://localhost:8080/",
     "height": 109
    },
    "colab_type": "code",
    "id": "sVl41QkCyYod",
    "outputId": "cc34c046-c94f-4554-b503-8bc4f69da4f1"
   },
   "outputs": [
    {
     "data": {
      "text/plain": [
       "[('review_id', 'string'),\n",
       " ('customer_id', 'int'),\n",
       " ('product_id', 'string'),\n",
       " ('product_parent', 'int'),\n",
       " ('review_date', 'timestamp')]"
      ]
     },
     "execution_count": 8,
     "metadata": {
      "tags": []
     },
     "output_type": "execute_result"
    }
   ],
   "source": [
    "# double checking that datatype matches schema\n",
    "review_df.dtypes"
   ]
  },
  {
   "cell_type": "code",
   "execution_count": null,
   "metadata": {
    "colab": {
     "base_uri": "https://localhost:8080/",
     "height": 109
    },
    "colab_type": "code",
    "id": "6geGKlULyhys",
    "outputId": "e6be51dd-7151-4534-8705-76600d0bb8e0"
   },
   "outputs": [
    {
     "data": {
      "text/plain": [
       "[('review_id', 'string'),\n",
       " ('customer_id', 'int'),\n",
       " ('product_id', 'string'),\n",
       " ('product_parent', 'int'),\n",
       " ('review_date', 'date')]"
      ]
     },
     "execution_count": 9,
     "metadata": {
      "tags": []
     },
     "output_type": "execute_result"
    }
   ],
   "source": [
    "# change review_date from timestamp to yyyy-mm-dd format and verify change\n",
    "from pyspark.sql.types import DateType\n",
    "review_df = review_df.withColumn(\"review_date\", review_df['review_date'].cast(DateType()))\n",
    "review_df.dtypes"
   ]
  },
  {
   "cell_type": "markdown",
   "metadata": {
    "colab_type": "text",
    "id": "k6fwEzjoeWY0"
   },
   "source": [
    "## Create user dataframe to match **products** table in the schema"
   ]
  },
  {
   "cell_type": "code",
   "execution_count": null,
   "metadata": {
    "colab": {
     "base_uri": "https://localhost:8080/",
     "height": 311
    },
    "colab_type": "code",
    "id": "Yyi9BMVyUpT3",
    "outputId": "7d4ad37b-4d50-433c-9323-88d636832e3a"
   },
   "outputs": [
    {
     "name": "stdout",
     "output_type": "stream",
     "text": [
      "+----------+--------------------+\n",
      "|product_id|       product_title|\n",
      "+----------+--------------------+\n",
      "|0029148510|Acts of War: Beha...|\n",
      "|1844494896|Waiting For Kate ...|\n",
      "|0451216954|Dark Lover (Black...|\n",
      "|006056718X|Often Wrong, Neve...|\n",
      "|0965852768|101 Spooktacular ...|\n",
      "|141960435X|Flip Flop Spanish...|\n",
      "|0471282502|Experimental Orga...|\n",
      "|0756613647|Universe: The Def...|\n",
      "|B0006YGCE8|Seismic risk asse...|\n",
      "|207030602X|L Etranger (Folio...|\n",
      "+----------+--------------------+\n",
      "only showing top 10 rows\n",
      "\n"
     ]
    }
   ],
   "source": [
    "# make df for products and drop duplicates\n",
    "product_df = df.select([\"product_id\", \"product_title\"]).drop_duplicates()\n",
    "product_df.show(10)"
   ]
  },
  {
   "cell_type": "code",
   "execution_count": null,
   "metadata": {
    "colab": {
     "base_uri": "https://localhost:8080/",
     "height": 35
    },
    "colab_type": "code",
    "id": "5fN7L0CdySei",
    "outputId": "66070f65-a5ac-48f1-9dab-f48c98d86eb6"
   },
   "outputs": [
    {
     "data": {
      "text/plain": [
       "[('product_id', 'string'), ('product_title', 'string')]"
      ]
     },
     "execution_count": 11,
     "metadata": {
      "tags": []
     },
     "output_type": "execute_result"
    }
   ],
   "source": [
    "# double checking that datatype matches schema\n",
    "product_df.dtypes"
   ]
  },
  {
   "cell_type": "markdown",
   "metadata": {
    "colab_type": "text",
    "id": "_8w9hMVldtO-"
   },
   "source": [
    "## Create user dataframe to match **customers** table in the schema"
   ]
  },
  {
   "cell_type": "code",
   "execution_count": null,
   "metadata": {
    "colab": {
     "base_uri": "https://localhost:8080/",
     "height": 311
    },
    "colab_type": "code",
    "id": "r3RI0EWqeGuN",
    "outputId": "0b6a5a68-b0db-4638-98c6-368d2f5945e3"
   },
   "outputs": [
    {
     "name": "stdout",
     "output_type": "stream",
     "text": [
      "+-----------+--------------+\n",
      "|customer_id|customer_count|\n",
      "+-----------+--------------+\n",
      "|   28735044|             9|\n",
      "|   15607794|             1|\n",
      "|   15596972|             1|\n",
      "|   32371281|             2|\n",
      "|   12084021|             1|\n",
      "|   14462635|             1|\n",
      "|   41052840|             5|\n",
      "|   52068296|           105|\n",
      "|   51739623|             1|\n",
      "|   14544320|             1|\n",
      "+-----------+--------------+\n",
      "only showing top 10 rows\n",
      "\n"
     ]
    }
   ],
   "source": [
    "# count the number of customers\n",
    "customer = df.groupby('customer_id').agg({\"customer_id\": \"count\"})\n",
    "\n",
    "#rename count(customer_id) column to match schema\n",
    "customer_df = customer.withColumnRenamed('count(customer_id)', 'customer_count')\n",
    "customer_df.show(10)"
   ]
  },
  {
   "cell_type": "code",
   "execution_count": null,
   "metadata": {
    "colab": {
     "base_uri": "https://localhost:8080/",
     "height": 35
    },
    "colab_type": "code",
    "id": "nT2kelfvx3-w",
    "outputId": "a6319d3c-19d4-4fa2-ab03-40434fbc25ad"
   },
   "outputs": [
    {
     "data": {
      "text/plain": [
       "[('customer_id', 'int'), ('customer_count', 'bigint')]"
      ]
     },
     "execution_count": 14,
     "metadata": {
      "tags": []
     },
     "output_type": "execute_result"
    }
   ],
   "source": [
    "# double checking that datatype matches schema\n",
    "customer_df.dtypes"
   ]
  },
  {
   "cell_type": "code",
   "execution_count": null,
   "metadata": {
    "colab": {
     "base_uri": "https://localhost:8080/",
     "height": 35
    },
    "colab_type": "code",
    "id": "1N6wv9QzzhDL",
    "outputId": "17f79fc1-f2c6-40e5-f80d-0640495d18d6"
   },
   "outputs": [
    {
     "data": {
      "text/plain": [
       "[('customer_id', 'int'), ('customer_count', 'int')]"
      ]
     },
     "execution_count": 15,
     "metadata": {
      "tags": []
     },
     "output_type": "execute_result"
    }
   ],
   "source": [
    "# change customer_count from bigint to int & verify change\n",
    "from pyspark.sql.types import IntegerType\n",
    "customer_df = customer_df.withColumn(\"customer_count\",customer_df[\"customer_count\"].cast(IntegerType()))\n",
    "customer_df.dtypes"
   ]
  },
  {
   "cell_type": "markdown",
   "metadata": {
    "colab_type": "text",
    "id": "SnWHIcLKePC-"
   },
   "source": [
    "## Create user dataframe to match **vine_table** table in the schema"
   ]
  },
  {
   "cell_type": "code",
   "execution_count": null,
   "metadata": {
    "colab": {
     "base_uri": "https://localhost:8080/",
     "height": 311
    },
    "colab_type": "code",
    "id": "Yiv4hk_GUo5Q",
    "outputId": "33f5d3c8-af83-4d32-b0c7-1c202774c43e"
   },
   "outputs": [
    {
     "name": "stdout",
     "output_type": "stream",
     "text": [
      "+--------------+-----------+-------------+-----------+----+\n",
      "|     review_id|star_rating|helpful_votes|total_votes|vine|\n",
      "+--------------+-----------+-------------+-----------+----+\n",
      "| RQ58W7SMO911M|          4|            2|          3|   N|\n",
      "|  RF6IUKMGL8SF|          3|            5|          5|   N|\n",
      "|R1DOSHH6AI622S|          4|            1|         22|   N|\n",
      "| RATOTLA3OF70O|          5|            2|          2|   N|\n",
      "|R1TNWRKIVHVYOV|          4|            0|          2|   N|\n",
      "|R2F53LI9KK9MOY|          4|            2|          2|   N|\n",
      "|R1KJ6MB7MRSQFF|          4|            9|         11|   N|\n",
      "|R2XIM9LT335WHE|          4|            3|         10|   N|\n",
      "|R1VE0FQQ0QTQJN|          5|           16|         20|   N|\n",
      "|R1VKEE2NWSWDRU|          4|            0|          0|   N|\n",
      "+--------------+-----------+-------------+-----------+----+\n",
      "only showing top 10 rows\n",
      "\n"
     ]
    }
   ],
   "source": [
    "# make df to match schema\n",
    "vine_df = df.select([\"review_id\", \"star_rating\",\"helpful_votes\",\"total_votes\",\"vine\"])\n",
    "vine_df.show(10)"
   ]
  },
  {
   "cell_type": "code",
   "execution_count": null,
   "metadata": {
    "colab": {
     "base_uri": "https://localhost:8080/",
     "height": 109
    },
    "colab_type": "code",
    "id": "5ue2rWvAxkp7",
    "outputId": "7b8c1039-8db3-4b59-b7dd-efe4b63c4709"
   },
   "outputs": [
    {
     "data": {
      "text/plain": [
       "[('review_id', 'string'),\n",
       " ('star_rating', 'int'),\n",
       " ('helpful_votes', 'int'),\n",
       " ('total_votes', 'int'),\n",
       " ('vine', 'string')]"
      ]
     },
     "execution_count": 17,
     "metadata": {
      "tags": []
     },
     "output_type": "execute_result"
    }
   ],
   "source": [
    "# double checking that datatype matches schema\n",
    "vine_df.dtypes"
   ]
  },
  {
   "cell_type": "markdown",
   "metadata": {
    "colab_type": "text",
    "id": "kQt4xHj0uk8j"
   },
   "source": [
    "## Load the DataFrames that correspond to tables into an RDS instance"
   ]
  },
  {
   "cell_type": "code",
   "execution_count": null,
   "metadata": {
    "colab": {},
    "colab_type": "code",
    "id": "sVwF0sn_agKF"
   },
   "outputs": [],
   "source": [
    "# Configure settings for RDS\n",
    "mode = \"append\"\n",
    "jdbc_url=\"jdbc:postgresql://<insert endpoint>:5432/postgres\"\n",
    "config = {\"user\":\"<insert username>\", \n",
    "          \"password\": \"<insert password>\", \n",
    "          \"driver\":\"org.postgresql.Driver\"}"
   ]
  },
  {
   "cell_type": "code",
   "execution_count": null,
   "metadata": {
    "colab": {},
    "colab_type": "code",
    "id": "Ewm3lbt7Yz_y"
   },
   "outputs": [],
   "source": [
    "# Write DataFrame to review_df table in RDS\n",
    "review_df.write.jdbc(url=jdbc_url, table='review_id_table', mode=mode, properties=config)"
   ]
  },
  {
   "cell_type": "code",
   "execution_count": null,
   "metadata": {
    "colab": {},
    "colab_type": "code",
    "id": "C-MTlY3rZiLd"
   },
   "outputs": [],
   "source": [
    "# Write DataFrame to product_df table in RDS\n",
    "product_df.write.jdbc(url=jdbc_url, table='products', mode=mode, properties=config)"
   ]
  },
  {
   "cell_type": "code",
   "execution_count": null,
   "metadata": {
    "colab": {},
    "colab_type": "code",
    "id": "TXwW41MmZimQ"
   },
   "outputs": [],
   "source": [
    "# Write DataFrame to customer_df table in RDS\n",
    "customer_df.write.jdbc(url=jdbc_url, table='customers', mode=mode, properties=config)"
   ]
  },
  {
   "cell_type": "code",
   "execution_count": null,
   "metadata": {
    "colab": {},
    "colab_type": "code",
    "id": "nJlJv6ZqZi7c"
   },
   "outputs": [],
   "source": [
    "# Write DataFrame to vine_df table in RDS\n",
    "vine_df.write.jdbc(url=jdbc_url, table='vine_table', mode=mode, properties=config)"
   ]
  },
  {
   "cell_type": "markdown",
   "metadata": {
    "colab_type": "text",
    "id": "pyTSpyD6RRjk"
   },
   "source": []
  },
  {
   "cell_type": "markdown",
   "metadata": {
    "colab_type": "text",
    "id": "pktZmOS-Qpsl"
   },
   "source": [
    "# Are Vine Reviews Trustworthy?"
   ]
  },
  {
   "cell_type": "markdown",
   "metadata": {
    "colab_type": "text",
    "id": "R5kYVvLE8m8a"
   },
   "source": [
    "## A Comparison between Vine and Non-Vine Reviewers"
   ]
  },
  {
   "cell_type": "markdown",
   "metadata": {
    "colab_type": "text",
    "id": "p25xaCrhMbi9"
   },
   "source": [
    "Count vine members"
   ]
  },
  {
   "cell_type": "code",
   "execution_count": null,
   "metadata": {
    "colab": {
     "base_uri": "https://localhost:8080/",
     "height": 146
    },
    "colab_type": "code",
    "id": "GkXKDnIx8lsq",
    "outputId": "046a810c-1824-4651-8a3d-617fe2a779a4"
   },
   "outputs": [
    {
     "name": "stdout",
     "output_type": "stream",
     "text": [
      "+--------------+-----------+-------------+-----------+----+\n",
      "|     review_id|star_rating|helpful_votes|total_votes|vine|\n",
      "+--------------+-----------+-------------+-----------+----+\n",
      "|R2NKNL4WXWIWBG|          4|            3|          3|   Y|\n",
      "| RAIG9ZQDMBF5P|          5|            3|          6|   Y|\n",
      "+--------------+-----------+-------------+-----------+----+\n",
      "\n"
     ]
    }
   ],
   "source": [
    "# Load in a sql function to use columns\n",
    "from pyspark.sql.functions import col\n",
    "\n",
    "# Find vine users\n",
    "vine_users = vine_df.filter(col(\"vine\")  == \"Y\")\n",
    "vine_users.show()"
   ]
  },
  {
   "cell_type": "code",
   "execution_count": null,
   "metadata": {
    "colab": {
     "base_uri": "https://localhost:8080/",
     "height": 35
    },
    "colab_type": "code",
    "id": "P0PbJCdXMjgt",
    "outputId": "e7f1e388-aa44-47e1-86e5-617178994b80"
   },
   "outputs": [
    {
     "name": "stdout",
     "output_type": "stream",
     "text": [
      "Number of vine users in this dataset: 2\n"
     ]
    }
   ],
   "source": [
    "# count rows to verify\n",
    "viners = vine_users.count()\n",
    "print(f\"Number of vine users in this dataset: {viners}\")"
   ]
  },
  {
   "cell_type": "markdown",
   "metadata": {
    "colab_type": "text",
    "id": "QasOpxAYMobV"
   },
   "source": [
    "Count number of non-vine members"
   ]
  },
  {
   "cell_type": "code",
   "execution_count": null,
   "metadata": {
    "colab": {
     "base_uri": "https://localhost:8080/",
     "height": 495
    },
    "colab_type": "code",
    "id": "rUIUI56w8lX_",
    "outputId": "991afe89-bdab-40b3-8c08-84700cec0248"
   },
   "outputs": [
    {
     "name": "stdout",
     "output_type": "stream",
     "text": [
      "+--------------+-----------+-------------+-----------+----+\n",
      "|     review_id|star_rating|helpful_votes|total_votes|vine|\n",
      "+--------------+-----------+-------------+-----------+----+\n",
      "| RQ58W7SMO911M|          4|            2|          3|   N|\n",
      "|  RF6IUKMGL8SF|          3|            5|          5|   N|\n",
      "|R1DOSHH6AI622S|          4|            1|         22|   N|\n",
      "| RATOTLA3OF70O|          5|            2|          2|   N|\n",
      "|R1TNWRKIVHVYOV|          4|            0|          2|   N|\n",
      "|R2F53LI9KK9MOY|          4|            2|          2|   N|\n",
      "|R1KJ6MB7MRSQFF|          4|            9|         11|   N|\n",
      "|R2XIM9LT335WHE|          4|            3|         10|   N|\n",
      "|R1VE0FQQ0QTQJN|          5|           16|         20|   N|\n",
      "|R1VKEE2NWSWDRU|          4|            0|          0|   N|\n",
      "|R2UP6XSVYJBJ2H|          5|            0|          0|   N|\n",
      "|R21SYDQ70ILUC0|          5|            1|          1|   N|\n",
      "| R7M06Z88PD7SX|          4|           14|         14|   N|\n",
      "| RRS38KZ4WB5O2|          5|            1|          1|   N|\n",
      "|R2YDYRSLGNHPHR|          4|           16|         19|   N|\n",
      "|R1BMPM18O6VZOR|          4|           13|         14|   N|\n",
      "|R1AABFZH0J0C0C|          3|           17|         35|   N|\n",
      "|R3SJYLG07EHNE9|          2|           16|         34|   N|\n",
      "|R2TIO43ND87XVO|          5|            1|          1|   N|\n",
      "|R18TY4WD19OUAO|          5|            1|          1|   N|\n",
      "+--------------+-----------+-------------+-----------+----+\n",
      "only showing top 20 rows\n",
      "\n"
     ]
    }
   ],
   "source": [
    "# Find non-vine users\n",
    "novine_users = vine_df.filter(col(\"vine\")  == \"N\")\n",
    "novine_users.show()"
   ]
  },
  {
   "cell_type": "code",
   "execution_count": null,
   "metadata": {
    "colab": {
     "base_uri": "https://localhost:8080/",
     "height": 35
    },
    "colab_type": "code",
    "id": "1P7sLCN_BmGM",
    "outputId": "48f2d62d-7f2f-488b-d844-4d4d4b84f642"
   },
   "outputs": [
    {
     "name": "stdout",
     "output_type": "stream",
     "text": [
      "Number of non-vine users in this dataset: 3105513\n"
     ]
    }
   ],
   "source": [
    "# count rows\n",
    "no_viners = novine_users.count()\n",
    "print(f\"Number of non-vine users in this dataset: {no_viners}\")"
   ]
  },
  {
   "cell_type": "code",
   "execution_count": null,
   "metadata": {
    "colab": {
     "base_uri": "https://localhost:8080/",
     "height": 35
    },
    "colab_type": "code",
    "id": "CNr3zwa4WRuX",
    "outputId": "2ffbcffe-59d2-4c9e-94cb-39c1174960bb"
   },
   "outputs": [
    {
     "data": {
      "text/plain": [
       "DataFrame[review_id: string, count: bigint]"
      ]
     },
     "execution_count": 24,
     "metadata": {
      "tags": []
     },
     "output_type": "execute_result"
    }
   ],
   "source": [
    "novine_users.groupBy(\"review_id\").count()"
   ]
  },
  {
   "cell_type": "markdown",
   "metadata": {
    "colab_type": "text",
    "id": "d7RYgYjENI2w"
   },
   "source": [
    "Total votes by star rating amongst non-vine users"
   ]
  },
  {
   "cell_type": "code",
   "execution_count": null,
   "metadata": {
    "colab": {
     "base_uri": "https://localhost:8080/",
     "height": 201
    },
    "colab_type": "code",
    "id": "UhADxGIzNJWh",
    "outputId": "e82e1c22-65dd-4b42-9807-41c5e94dd915"
   },
   "outputs": [
    {
     "name": "stdout",
     "output_type": "stream",
     "text": [
      "+-----------+------------------+\n",
      "|star_rating|count(total_votes)|\n",
      "+-----------+------------------+\n",
      "|5          |1864803           |\n",
      "|4          |586180            |\n",
      "|3          |249925            |\n",
      "|1          |238221            |\n",
      "|2          |166384            |\n",
      "+-----------+------------------+\n",
      "\n"
     ]
    }
   ],
   "source": [
    "from pyspark.sql.functions import desc\n",
    "novine_reviews_df = novine_users.select([\"star_rating\",\"total_votes\"])\\\n",
    "         .groupBy(\"star_rating\")\\\n",
    "         .agg({\"total_votes\": \"count\"})\n",
    "\n",
    "novine_reviews_df.orderBy(desc(\"count(total_votes)\")).show(truncate=False)"
   ]
  },
  {
   "cell_type": "code",
   "execution_count": null,
   "metadata": {
    "colab": {
     "base_uri": "https://localhost:8080/",
     "height": 201
    },
    "colab_type": "code",
    "id": "Yy7ylTUAUdKW",
    "outputId": "b11646c6-5740-47a0-89b0-2f38a478eeec"
   },
   "outputs": [
    {
     "name": "stdout",
     "output_type": "stream",
     "text": [
      "+-----------+----------------+------------------+\n",
      "|star_rating|sum(total_votes)|sum(helpful_votes)|\n",
      "+-----------+----------------+------------------+\n",
      "|5          |20824555        |17667965          |\n",
      "|1          |6321283         |2965719           |\n",
      "|4          |5524832         |4539419           |\n",
      "|3          |3060700         |2139865           |\n",
      "|2          |2777252         |1676047           |\n",
      "+-----------+----------------+------------------+\n",
      "\n"
     ]
    }
   ],
   "source": [
    "novine_tots_reviews = novine_users.select([\"star_rating\",\"total_votes\", \"helpful_votes\"])\\\n",
    "         .groupBy(\"star_rating\")\\\n",
    "         .agg({\"total_votes\": \"sum\", \"helpful_votes\": \"sum\"})\n",
    "\n",
    "df1 = novine_tots_reviews.orderBy(desc(\"sum(total_votes)\"))\n",
    "df1.show(truncate=False)"
   ]
  }
 ],
 "metadata": {
  "colab": {
   "collapsed_sections": [],
   "name": "BigDataAWS_Books1.ipynb",
   "provenance": []
  },
  "kernelspec": {
   "display_name": "Python 3",
   "language": "python",
   "name": "python3"
  },
  "language_info": {
   "codemirror_mode": {
    "name": "ipython",
    "version": 3
   },
   "file_extension": ".py",
   "mimetype": "text/x-python",
   "name": "python",
   "nbconvert_exporter": "python",
   "pygments_lexer": "ipython3",
   "version": "3.6.10"
  }
 },
 "nbformat": 4,
 "nbformat_minor": 1
}
